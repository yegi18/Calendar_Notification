{
  "nbformat": 4,
  "nbformat_minor": 0,
  "metadata": {
    "colab": {
      "provenance": [],
      "gpuType": "T4"
    },
    "kernelspec": {
      "name": "python3",
      "display_name": "Python 3"
    },
    "language_info": {
      "name": "python"
    }
  },
  "cells": [
    {
      "cell_type": "code",
      "execution_count": null,
      "metadata": {
        "colab": {
          "base_uri": "https://localhost:8080/",
          "height": 475
        },
        "id": "rEvTNwgvTFld",
        "outputId": "f8cdd88d-cd16-4f7b-d0e9-d513240bb181"
      },
      "outputs": [
        {
          "output_type": "stream",
          "name": "stdout",
          "text": [
            "Requirement already satisfied: google-api-python-client in /usr/local/lib/python3.10/dist-packages (2.137.0)\n",
            "Requirement already satisfied: google-auth-httplib2 in /usr/local/lib/python3.10/dist-packages (0.2.0)\n",
            "Requirement already satisfied: google-auth-oauthlib in /usr/local/lib/python3.10/dist-packages (1.2.1)\n",
            "Requirement already satisfied: httplib2<1.dev0,>=0.19.0 in /usr/local/lib/python3.10/dist-packages (from google-api-python-client) (0.22.0)\n",
            "Requirement already satisfied: google-auth!=2.24.0,!=2.25.0,<3.0.0.dev0,>=1.32.0 in /usr/local/lib/python3.10/dist-packages (from google-api-python-client) (2.27.0)\n",
            "Requirement already satisfied: google-api-core!=2.0.*,!=2.1.*,!=2.2.*,!=2.3.0,<3.0.0.dev0,>=1.31.5 in /usr/local/lib/python3.10/dist-packages (from google-api-python-client) (2.19.1)\n",
            "Requirement already satisfied: uritemplate<5,>=3.0.1 in /usr/local/lib/python3.10/dist-packages (from google-api-python-client) (4.1.1)\n",
            "Requirement already satisfied: requests-oauthlib>=0.7.0 in /usr/local/lib/python3.10/dist-packages (from google-auth-oauthlib) (1.3.1)\n",
            "Requirement already satisfied: googleapis-common-protos<2.0.dev0,>=1.56.2 in /usr/local/lib/python3.10/dist-packages (from google-api-core!=2.0.*,!=2.1.*,!=2.2.*,!=2.3.0,<3.0.0.dev0,>=1.31.5->google-api-python-client) (1.63.2)\n",
            "Requirement already satisfied: protobuf!=3.20.0,!=3.20.1,!=4.21.0,!=4.21.1,!=4.21.2,!=4.21.3,!=4.21.4,!=4.21.5,<6.0.0.dev0,>=3.19.5 in /usr/local/lib/python3.10/dist-packages (from google-api-core!=2.0.*,!=2.1.*,!=2.2.*,!=2.3.0,<3.0.0.dev0,>=1.31.5->google-api-python-client) (3.20.3)\n",
            "Requirement already satisfied: proto-plus<2.0.0dev,>=1.22.3 in /usr/local/lib/python3.10/dist-packages (from google-api-core!=2.0.*,!=2.1.*,!=2.2.*,!=2.3.0,<3.0.0.dev0,>=1.31.5->google-api-python-client) (1.24.0)\n",
            "Requirement already satisfied: requests<3.0.0.dev0,>=2.18.0 in /usr/local/lib/python3.10/dist-packages (from google-api-core!=2.0.*,!=2.1.*,!=2.2.*,!=2.3.0,<3.0.0.dev0,>=1.31.5->google-api-python-client) (2.31.0)\n",
            "Requirement already satisfied: cachetools<6.0,>=2.0.0 in /usr/local/lib/python3.10/dist-packages (from google-auth!=2.24.0,!=2.25.0,<3.0.0.dev0,>=1.32.0->google-api-python-client) (5.4.0)\n",
            "Requirement already satisfied: pyasn1-modules>=0.2.1 in /usr/local/lib/python3.10/dist-packages (from google-auth!=2.24.0,!=2.25.0,<3.0.0.dev0,>=1.32.0->google-api-python-client) (0.4.0)\n",
            "Requirement already satisfied: rsa<5,>=3.1.4 in /usr/local/lib/python3.10/dist-packages (from google-auth!=2.24.0,!=2.25.0,<3.0.0.dev0,>=1.32.0->google-api-python-client) (4.9)\n",
            "Requirement already satisfied: pyparsing!=3.0.0,!=3.0.1,!=3.0.2,!=3.0.3,<4,>=2.4.2 in /usr/local/lib/python3.10/dist-packages (from httplib2<1.dev0,>=0.19.0->google-api-python-client) (3.1.2)\n",
            "Requirement already satisfied: oauthlib>=3.0.0 in /usr/local/lib/python3.10/dist-packages (from requests-oauthlib>=0.7.0->google-auth-oauthlib) (3.2.2)\n",
            "Requirement already satisfied: pyasn1<0.7.0,>=0.4.6 in /usr/local/lib/python3.10/dist-packages (from pyasn1-modules>=0.2.1->google-auth!=2.24.0,!=2.25.0,<3.0.0.dev0,>=1.32.0->google-api-python-client) (0.6.0)\n",
            "Requirement already satisfied: charset-normalizer<4,>=2 in /usr/local/lib/python3.10/dist-packages (from requests<3.0.0.dev0,>=2.18.0->google-api-core!=2.0.*,!=2.1.*,!=2.2.*,!=2.3.0,<3.0.0.dev0,>=1.31.5->google-api-python-client) (3.3.2)\n",
            "Requirement already satisfied: idna<4,>=2.5 in /usr/local/lib/python3.10/dist-packages (from requests<3.0.0.dev0,>=2.18.0->google-api-core!=2.0.*,!=2.1.*,!=2.2.*,!=2.3.0,<3.0.0.dev0,>=1.31.5->google-api-python-client) (3.7)\n",
            "Requirement already satisfied: urllib3<3,>=1.21.1 in /usr/local/lib/python3.10/dist-packages (from requests<3.0.0.dev0,>=2.18.0->google-api-core!=2.0.*,!=2.1.*,!=2.2.*,!=2.3.0,<3.0.0.dev0,>=1.31.5->google-api-python-client) (2.0.7)\n",
            "Requirement already satisfied: certifi>=2017.4.17 in /usr/local/lib/python3.10/dist-packages (from requests<3.0.0.dev0,>=2.18.0->google-api-core!=2.0.*,!=2.1.*,!=2.2.*,!=2.3.0,<3.0.0.dev0,>=1.31.5->google-api-python-client) (2024.7.4)\n"
          ]
        },
        {
          "output_type": "display_data",
          "data": {
            "text/plain": [
              "<IPython.core.display.HTML object>"
            ],
            "text/html": [
              "\n",
              "     <input type=\"file\" id=\"files-83a42ea2-9103-4e7c-905c-42397b39acfb\" name=\"files[]\" multiple disabled\n",
              "        style=\"border:none\" />\n",
              "     <output id=\"result-83a42ea2-9103-4e7c-905c-42397b39acfb\">\n",
              "      Upload widget is only available when the cell has been executed in the\n",
              "      current browser session. Please rerun this cell to enable.\n",
              "      </output>\n",
              "      <script>// Copyright 2017 Google LLC\n",
              "//\n",
              "// Licensed under the Apache License, Version 2.0 (the \"License\");\n",
              "// you may not use this file except in compliance with the License.\n",
              "// You may obtain a copy of the License at\n",
              "//\n",
              "//      http://www.apache.org/licenses/LICENSE-2.0\n",
              "//\n",
              "// Unless required by applicable law or agreed to in writing, software\n",
              "// distributed under the License is distributed on an \"AS IS\" BASIS,\n",
              "// WITHOUT WARRANTIES OR CONDITIONS OF ANY KIND, either express or implied.\n",
              "// See the License for the specific language governing permissions and\n",
              "// limitations under the License.\n",
              "\n",
              "/**\n",
              " * @fileoverview Helpers for google.colab Python module.\n",
              " */\n",
              "(function(scope) {\n",
              "function span(text, styleAttributes = {}) {\n",
              "  const element = document.createElement('span');\n",
              "  element.textContent = text;\n",
              "  for (const key of Object.keys(styleAttributes)) {\n",
              "    element.style[key] = styleAttributes[key];\n",
              "  }\n",
              "  return element;\n",
              "}\n",
              "\n",
              "// Max number of bytes which will be uploaded at a time.\n",
              "const MAX_PAYLOAD_SIZE = 100 * 1024;\n",
              "\n",
              "function _uploadFiles(inputId, outputId) {\n",
              "  const steps = uploadFilesStep(inputId, outputId);\n",
              "  const outputElement = document.getElementById(outputId);\n",
              "  // Cache steps on the outputElement to make it available for the next call\n",
              "  // to uploadFilesContinue from Python.\n",
              "  outputElement.steps = steps;\n",
              "\n",
              "  return _uploadFilesContinue(outputId);\n",
              "}\n",
              "\n",
              "// This is roughly an async generator (not supported in the browser yet),\n",
              "// where there are multiple asynchronous steps and the Python side is going\n",
              "// to poll for completion of each step.\n",
              "// This uses a Promise to block the python side on completion of each step,\n",
              "// then passes the result of the previous step as the input to the next step.\n",
              "function _uploadFilesContinue(outputId) {\n",
              "  const outputElement = document.getElementById(outputId);\n",
              "  const steps = outputElement.steps;\n",
              "\n",
              "  const next = steps.next(outputElement.lastPromiseValue);\n",
              "  return Promise.resolve(next.value.promise).then((value) => {\n",
              "    // Cache the last promise value to make it available to the next\n",
              "    // step of the generator.\n",
              "    outputElement.lastPromiseValue = value;\n",
              "    return next.value.response;\n",
              "  });\n",
              "}\n",
              "\n",
              "/**\n",
              " * Generator function which is called between each async step of the upload\n",
              " * process.\n",
              " * @param {string} inputId Element ID of the input file picker element.\n",
              " * @param {string} outputId Element ID of the output display.\n",
              " * @return {!Iterable<!Object>} Iterable of next steps.\n",
              " */\n",
              "function* uploadFilesStep(inputId, outputId) {\n",
              "  const inputElement = document.getElementById(inputId);\n",
              "  inputElement.disabled = false;\n",
              "\n",
              "  const outputElement = document.getElementById(outputId);\n",
              "  outputElement.innerHTML = '';\n",
              "\n",
              "  const pickedPromise = new Promise((resolve) => {\n",
              "    inputElement.addEventListener('change', (e) => {\n",
              "      resolve(e.target.files);\n",
              "    });\n",
              "  });\n",
              "\n",
              "  const cancel = document.createElement('button');\n",
              "  inputElement.parentElement.appendChild(cancel);\n",
              "  cancel.textContent = 'Cancel upload';\n",
              "  const cancelPromise = new Promise((resolve) => {\n",
              "    cancel.onclick = () => {\n",
              "      resolve(null);\n",
              "    };\n",
              "  });\n",
              "\n",
              "  // Wait for the user to pick the files.\n",
              "  const files = yield {\n",
              "    promise: Promise.race([pickedPromise, cancelPromise]),\n",
              "    response: {\n",
              "      action: 'starting',\n",
              "    }\n",
              "  };\n",
              "\n",
              "  cancel.remove();\n",
              "\n",
              "  // Disable the input element since further picks are not allowed.\n",
              "  inputElement.disabled = true;\n",
              "\n",
              "  if (!files) {\n",
              "    return {\n",
              "      response: {\n",
              "        action: 'complete',\n",
              "      }\n",
              "    };\n",
              "  }\n",
              "\n",
              "  for (const file of files) {\n",
              "    const li = document.createElement('li');\n",
              "    li.append(span(file.name, {fontWeight: 'bold'}));\n",
              "    li.append(span(\n",
              "        `(${file.type || 'n/a'}) - ${file.size} bytes, ` +\n",
              "        `last modified: ${\n",
              "            file.lastModifiedDate ? file.lastModifiedDate.toLocaleDateString() :\n",
              "                                    'n/a'} - `));\n",
              "    const percent = span('0% done');\n",
              "    li.appendChild(percent);\n",
              "\n",
              "    outputElement.appendChild(li);\n",
              "\n",
              "    const fileDataPromise = new Promise((resolve) => {\n",
              "      const reader = new FileReader();\n",
              "      reader.onload = (e) => {\n",
              "        resolve(e.target.result);\n",
              "      };\n",
              "      reader.readAsArrayBuffer(file);\n",
              "    });\n",
              "    // Wait for the data to be ready.\n",
              "    let fileData = yield {\n",
              "      promise: fileDataPromise,\n",
              "      response: {\n",
              "        action: 'continue',\n",
              "      }\n",
              "    };\n",
              "\n",
              "    // Use a chunked sending to avoid message size limits. See b/62115660.\n",
              "    let position = 0;\n",
              "    do {\n",
              "      const length = Math.min(fileData.byteLength - position, MAX_PAYLOAD_SIZE);\n",
              "      const chunk = new Uint8Array(fileData, position, length);\n",
              "      position += length;\n",
              "\n",
              "      const base64 = btoa(String.fromCharCode.apply(null, chunk));\n",
              "      yield {\n",
              "        response: {\n",
              "          action: 'append',\n",
              "          file: file.name,\n",
              "          data: base64,\n",
              "        },\n",
              "      };\n",
              "\n",
              "      let percentDone = fileData.byteLength === 0 ?\n",
              "          100 :\n",
              "          Math.round((position / fileData.byteLength) * 100);\n",
              "      percent.textContent = `${percentDone}% done`;\n",
              "\n",
              "    } while (position < fileData.byteLength);\n",
              "  }\n",
              "\n",
              "  // All done.\n",
              "  yield {\n",
              "    response: {\n",
              "      action: 'complete',\n",
              "    }\n",
              "  };\n",
              "}\n",
              "\n",
              "scope.google = scope.google || {};\n",
              "scope.google.colab = scope.google.colab || {};\n",
              "scope.google.colab._files = {\n",
              "  _uploadFiles,\n",
              "  _uploadFilesContinue,\n",
              "};\n",
              "})(self);\n",
              "</script> "
            ]
          },
          "metadata": {}
        },
        {
          "output_type": "stream",
          "name": "stdout",
          "text": [
            "Saving notificationpi-427711-ec55d2d7370f.json to notificationpi-427711-ec55d2d7370f.json\n"
          ]
        }
      ],
      "source": [
        "!pip install --upgrade google-api-python-client google-auth-httplib2 google-auth-oauthlib\n",
        "\n",
        "# Import libraries\n",
        "import os\n",
        "import json\n",
        "from google.oauth2 import service_account\n",
        "from googleapiclient.discovery import build\n",
        "from google.colab import files\n",
        "\n",
        "# Upload the JSON key file\n",
        "uploaded = files.upload()"
      ]
    },
    {
      "cell_type": "code",
      "source": [
        "\"\"\"\n",
        "notifpi@notificationpi-427711.iam.gserviceaccount.com\n",
        "\"\"\"\n"
      ],
      "metadata": {
        "id": "-SOkCVg_TS-s"
      },
      "execution_count": null,
      "outputs": []
    },
    {
      "cell_type": "code",
      "source": [
        "key_file = list(uploaded.keys())[0]\n",
        "\n",
        "# Load the service account credentials\n",
        "credentials = service_account.Credentials.from_service_account_file(\n",
        "    key_file, scopes=['https://www.googleapis.com/auth/calendar']\n",
        ")\n",
        "\n",
        "# Build the service\n",
        "service = build('calendar', 'v3', credentials=credentials)\n",
        "\n",
        "\"\"\"\n",
        "calendar_list_entry = {\n",
        "    'id': 'c_29d2ffdb372b5f8240fb7b914880ca4a545c95bc1caf2846b64ececd17aed2ab@group.calendar.google.com'\n",
        "}\n",
        "calendar_list_entry_me = {\n",
        "    'id': 'c_4314369eddd3405f55d94c9a472b13fb268283d27228ef4b092147fed283c476@group.calendar.google.com'\n",
        "}\n",
        "\n",
        "created_calendar_list_entry = service.calendarList().insert(body=calendar_list_entry).execute()\n",
        "created_calendar_list_entry = service.calendarList().insert(body=calendar_list_entry_me).execute()\n",
        "\n",
        "print(created_calendar_list_entry['summary'])\n",
        "\"\"\""
      ],
      "metadata": {
        "colab": {
          "base_uri": "https://localhost:8080/",
          "height": 88
        },
        "id": "BdnYLPo9TTLW",
        "outputId": "9c08009c-9418-4b25-fd44-db14ff1bd22f"
      },
      "execution_count": null,
      "outputs": [
        {
          "output_type": "execute_result",
          "data": {
            "text/plain": [
              "\"\\ncalendar_list_entry = {\\n    'id': 'c_29d2ffdb372b5f8240fb7b914880ca4a545c95bc1caf2846b64ececd17aed2ab@group.calendar.google.com'\\n}\\ncalendar_list_entry_me = {\\n    'id': 'c_4314369eddd3405f55d94c9a472b13fb268283d27228ef4b092147fed283c476@group.calendar.google.com'\\n}\\n\\ncreated_calendar_list_entry = service.calendarList().insert(body=calendar_list_entry).execute()\\ncreated_calendar_list_entry = service.calendarList().insert(body=calendar_list_entry_me).execute()\\n\\nprint(created_calendar_list_entry['summary'])\\n\""
            ],
            "application/vnd.google.colaboratory.intrinsic+json": {
              "type": "string"
            }
          },
          "metadata": {},
          "execution_count": 3
        }
      ]
    },
    {
      "cell_type": "code",
      "source": [
        "def add_calendars_to_list(service, calendar_ids):\n",
        "    for calendar_id in calendar_ids:\n",
        "        calendar_list_entry = {\n",
        "            'id': calendar_id\n",
        "        }\n",
        "        try:\n",
        "            service.calendarList().insert(body=calendar_list_entry).execute()\n",
        "            print(f\"Calendar with ID {calendar_id} added successfully.\")\n",
        "        except Exception as e:\n",
        "            print(f\"An error occurred: {e}\")\n",
        "\n",
        "# List of calendar IDs to add\n",
        "calendar_ids = [\n",
        "\n",
        "    'c_f8df263786d1c9e1e61fed3864fb410b5c37d6b3b816fd77b2e8ac4caaa08f6e@group.calendar.google.com', #iddd ug\n",
        "    'c_fded5f2b3bad8dccc9e19570bf73252a79803f686edb3e790c132da95bb550a2@group.calendar.google.com', #ae ug\n",
        "    'c_916b6bcb66941c40ab3099a25d559ad82487608115eb352c78f6d9f7849bc9b2@group.calendar.google.com',#bt ug\n",
        "    'c_2608f770a44cfb9a2f4c999b65dcb71a3f91d70e6c4b1fa8fcb0455f7e443bea@group.calendar.google.com',#ce ug\n",
        "    'c_0804bb01cc940c1457c10df562004489a7fde53da89493406f25e886ccefc6cf@group.calendar.google.com',#ch ug\n",
        "    'c_05597bc0866b450776c80d190ece8b2ddd9aa477a3d243d283ccecc50d72641c@group.calendar.google.com',#cs ug\n",
        "    'c_942a732c5870d6b8e53e95eebe95dd1cbe7e14436af7540c0a7b386a16f14d51@group.calendar.google.com',#ed ug\n",
        "    'c_6cf3588e18654136f7d5bcc8b0a3ca9bb89f0d5674bc44599e2117ed47f6d388@group.calendar.google.com',#ee ug\n",
        "    'c_c0eb1b37720cc5600f58d5df251ba78f97758dfc1936f906339bb204a9c5e2f9@group.calendar.google.com',#ep ug\n",
        "    'c_9baaec817b5cb295296cded565648720eda8bf6a92d75d5615ae7497c5619266@group.calendar.google.com',#hs ug\n",
        "    'c_9ee57194328e84b56934e76cf7aff059dc48728108ced303cb686d285ab968b1@group.calendar.google.com',#me ug\n",
        "    'c_d4d43f7cee75c4ec4e7c7ba21586404ebbb04cafaa09bb75179b8f4a6816f585@group.calendar.google.com',#mm ug\n",
        "    'c_bd042a6839e5277e9176a084b63990f7c168e228dec10eb37d21e6c488011488@group.calendar.google.com',#na ug\n",
        "\n",
        "\n",
        "    # Add more calendar IDs as needed\n",
        "]\n",
        "\n",
        "# Add the calendars to the user's calendar list\n",
        "add_calendars_to_list(service, calendar_ids)"
      ],
      "metadata": {
        "colab": {
          "base_uri": "https://localhost:8080/"
        },
        "id": "eSRWTm-IUf-q",
        "outputId": "9ff12621-7cdc-4914-efe0-3b44bfc030c5"
      },
      "execution_count": null,
      "outputs": [
        {
          "output_type": "stream",
          "name": "stdout",
          "text": [
            "Calendar with ID c_f8df263786d1c9e1e61fed3864fb410b5c37d6b3b816fd77b2e8ac4caaa08f6e@group.calendar.google.com added successfully.\n",
            "Calendar with ID c_fded5f2b3bad8dccc9e19570bf73252a79803f686edb3e790c132da95bb550a2@group.calendar.google.com added successfully.\n",
            "Calendar with ID c_916b6bcb66941c40ab3099a25d559ad82487608115eb352c78f6d9f7849bc9b2@group.calendar.google.com added successfully.\n",
            "Calendar with ID c_2608f770a44cfb9a2f4c999b65dcb71a3f91d70e6c4b1fa8fcb0455f7e443bea@group.calendar.google.com added successfully.\n",
            "Calendar with ID c_0804bb01cc940c1457c10df562004489a7fde53da89493406f25e886ccefc6cf@group.calendar.google.com added successfully.\n",
            "Calendar with ID c_05597bc0866b450776c80d190ece8b2ddd9aa477a3d243d283ccecc50d72641c@group.calendar.google.com added successfully.\n",
            "Calendar with ID c_942a732c5870d6b8e53e95eebe95dd1cbe7e14436af7540c0a7b386a16f14d51@group.calendar.google.com added successfully.\n",
            "Calendar with ID c_6cf3588e18654136f7d5bcc8b0a3ca9bb89f0d5674bc44599e2117ed47f6d388@group.calendar.google.com added successfully.\n",
            "Calendar with ID c_c0eb1b37720cc5600f58d5df251ba78f97758dfc1936f906339bb204a9c5e2f9@group.calendar.google.com added successfully.\n",
            "Calendar with ID c_9baaec817b5cb295296cded565648720eda8bf6a92d75d5615ae7497c5619266@group.calendar.google.com added successfully.\n",
            "Calendar with ID c_9ee57194328e84b56934e76cf7aff059dc48728108ced303cb686d285ab968b1@group.calendar.google.com added successfully.\n",
            "Calendar with ID c_d4d43f7cee75c4ec4e7c7ba21586404ebbb04cafaa09bb75179b8f4a6816f585@group.calendar.google.com added successfully.\n",
            "Calendar with ID c_bd042a6839e5277e9176a084b63990f7c168e228dec10eb37d21e6c488011488@group.calendar.google.com added successfully.\n"
          ]
        }
      ]
    },
    {
      "cell_type": "code",
      "source": [
        "print(calendar_ids[1])"
      ],
      "metadata": {
        "colab": {
          "base_uri": "https://localhost:8080/"
        },
        "id": "ya1PT_p265Tv",
        "outputId": "4d0276a5-d1bd-4fb3-e37b-d3158514d6bb"
      },
      "execution_count": null,
      "outputs": [
        {
          "output_type": "stream",
          "name": "stdout",
          "text": [
            "c_7a8e7219908446f89d323f67b50ee5d56d0633508a3630e81df713a8f4132f91@group.calendar.google.com\n"
          ]
        }
      ]
    },
    {
      "cell_type": "code",
      "source": [
        "calendar_list = service.calendarList().list().execute()\n",
        "for calendar_list_entry in calendar_list['items']:\n",
        "    print(calendar_list_entry['id'])"
      ],
      "metadata": {
        "colab": {
          "base_uri": "https://localhost:8080/"
        },
        "id": "LXNFSWVNofS5",
        "outputId": "8bd1f730-5980-45b0-f2bd-71040e739dca"
      },
      "execution_count": null,
      "outputs": [
        {
          "output_type": "stream",
          "name": "stdout",
          "text": [
            "c_29d2ffdb372b5f8240fb7b914880ca4a545c95bc1caf2846b64ececd17aed2ab@group.calendar.google.com\n",
            "c_4314369eddd3405f55d94c9a472b13fb268283d27228ef4b092147fed283c476@group.calendar.google.com\n",
            "c_831fbeacd9d567cd78c9baeb5c0a8c591009333b954ea223664f31ada6f3a43a@group.calendar.google.com\n",
            "c_7a8e7219908446f89d323f67b50ee5d56d0633508a3630e81df713a8f4132f91@group.calendar.google.com\n"
          ]
        }
      ]
    },
    {
      "cell_type": "code",
      "source": [
        "#filter with yesterday's sheet\n",
        "import numpy as np\n",
        "import pandas as pd\n",
        "dataold=pd.read_csv(\"/content/announced_old.csv\", header=None)\n",
        "datatod=pd.read_csv(\"/content/announced.csv\", header=None)\n",
        "dataref=datatod.copy()\n",
        "dataold.fillna(0,inplace=True)\n",
        "datatod.fillna(0,inplace=True)\n",
        "\n",
        "ind=[]\n",
        "for i in range(1,len(datatod.loc[:,11])):\n",
        "  for j in range(1,len(dataold.loc[:,11])):\n",
        "    if datatod.loc[:,2][i]==dataold.loc[:,2][j] and datatod.loc[:,7][i]==dataold.loc[:,7][j] and datatod.loc[:,11][i]==dataold.loc[:,11][j] and datatod.loc[:,12][i]==dataold.loc[:,12][j] and datatod.loc[:,13][i]==dataold.loc[:,13][j] and datatod.loc[:,14][i]==dataold.loc[:,14][j] and datatod.loc[:,23][i]==dataold.loc[:,23][j] and datatod.loc[:,24][i]==dataold.loc[:,24][j] and datatod.loc[:,28][i]==dataold.loc[:,28][j]:\n",
        "      ind.append(i)\n",
        "      break\n",
        "dataref=dataref.drop(ind)\n",
        "dataref.to_csv(\"dataref.csv\",index=False,header=False)\n"
      ],
      "metadata": {
        "id": "YxzsFF4MZCQZ"
      },
      "execution_count": null,
      "outputs": []
    },
    {
      "cell_type": "code",
      "source": [
        "import numpy as np\n",
        "import pandas as pd\n",
        "#data = pd.read_csv(\"/content/dataold.csv\", header=None)\n",
        "data = pd.read_csv(\"/content/dataref.csv\", header=None)\n",
        "data.fillna(0,inplace=True)"
      ],
      "metadata": {
        "id": "Hx1MMFFfVO-G"
      },
      "execution_count": null,
      "outputs": []
    },
    {
      "cell_type": "code",
      "source": [
        "print(data.loc[:,11][151])\n"
      ],
      "metadata": {
        "colab": {
          "base_uri": "https://localhost:8080/"
        },
        "id": "4m5Qik3Bm7Rl",
        "outputId": "1a1ec262-5849-4bfa-85e8-d6af00c3abf5"
      },
      "execution_count": null,
      "outputs": [
        {
          "output_type": "stream",
          "name": "stdout",
          "text": [
            "Jan 28, 2024-12:00 PM\n"
          ]
        }
      ]
    },
    {
      "cell_type": "code",
      "source": [
        "month={\"Jan\":\"01\",\"Feb\":\"02\",\"Mar\":\"03\",\"Apr\":\"04\",\"May\":\"05\",\"Jun\":\"06\",\"Jul\":\"07\",\"Aug\":\"08\",\"Sep\":\"09\",\"Oct\":\"10\",\"Nov\":\"11\",\"Dec\":\"12\"}\n",
        "\n",
        "#Resume Deadlines\n",
        "start_date=[]\n",
        "start_time=[]\n",
        "end_time=[]\n",
        "x=data.loc[:,12]\n",
        "for i in range(1,len(x)):\n",
        "  if x[i]==0:\n",
        "    start_date.append(0)\n",
        "    start_time.append(0)\n",
        "    end_time.append(0)\n",
        "\n",
        "\n",
        "  else:\n",
        "\n",
        "    a=x[i].split()\n",
        "    start_date.append(str(a[2].split('-')[0])+'-'+str(month[a[0]])+'-'+str(a[1].split(',')[0]))\n",
        "#      end_date.append(str(a[1].split(',')[0])+\"-\"+str(a[0])+\"-\"+str(a[2].split('-')[0]))\n",
        "#      start_time.append(\"08:00 AM\")\n",
        "#    else:\n",
        "#      start_date.append(str(a[1].split(',')[0])+\"-\"+str(a[0])+\"-\"+str(a[2].split('-')[0]))\n",
        "#      start_time.append(\"00:01 AM\")\n",
        "    if str(a[3])==\"PM\" and int(a[2].split('-')[1].split(':')[0])!=12:\n",
        "      end_time.append((str(int((a[2].split('-')[1]).split(':')[0])+12)+\":\"+str(a[2].split('-')[1]).split(':')[1])+\":00\")\n",
        "    else:\n",
        "      end_time.append((str(a[2].split('-')[1])+\":00\"))\n",
        "\n",
        "    if (str(a[2].split('-')[1])==\"11:59\" and str(a[3])==\"PM\"):\n",
        "      start_time.append(\"22:59:00\")\n",
        "    else:\n",
        "      start_time.append(end_time[i-1])\n",
        "\n",
        "\n",
        "\n",
        "\n"
      ],
      "metadata": {
        "id": "yzNMwFUEVPke"
      },
      "execution_count": null,
      "outputs": []
    },
    {
      "cell_type": "code",
      "source": [
        "ppt_start_date=[]\n",
        "ppt_start_time=[]\n",
        "#test_end_date=[]\n",
        "#test_end_time=[]\n",
        "y=data.loc[:,13]\n",
        "test_start_date=[]\n",
        "test_start_time=[]\n",
        "#ppt_end_date=[]\n",
        "#ppt_end_time=[]\n",
        "z=data.loc[:,14]\n",
        "for i in range(1,len(y)):\n",
        "  if z[i]==0:\n",
        "    test_start_date.append(0)\n",
        "    test_start_time.append(0)\n",
        "  else:\n",
        "\n",
        "    a=z[i].split()\n",
        "    if str(a[3])==\"PM\" and int(a[2].split('-')[1].split(':')[0])!=12:\n",
        "      test_start_time.append((str(int((a[2].split('-')[1]).split(':')[0])+12)+\":\"+str(a[2].split('-')[1]).split(':')[1])+\":00\")\n",
        "    else:\n",
        "      test_start_time.append((str(a[2].split('-')[1])+\":00\"))\n",
        "    test_start_date.append(str(a[2].split('-')[0])+'-'+str(month[a[0]])+'-'+str(a[1].split(',')[0]))\n",
        "\n",
        "\n",
        "  if y[i]==0:\n",
        "    ppt_start_date.append(0)\n",
        "    ppt_start_time.append(0)\n",
        "  else:\n",
        "\n",
        "    a=y[i].split()\n",
        "    if str(a[3])==\"PM\" and int(a[2].split('-')[1].split(':')[0])!=12:\n",
        "      ppt_start_time.append((str(int((a[2].split('-')[1]).split(':')[0])+12)+\":\"+str(a[2].split('-')[1]).split(':')[1])+\":00\")\n",
        "    else:\n",
        "      ppt_start_time.append((str(a[2].split('-')[1])+\":00\"))\n",
        "    ppt_start_date.append(str(a[2].split('-')[0])+'-'+str(month[a[0]])+'-'+str(a[1].split(',')[0]))\n",
        "\n"
      ],
      "metadata": {
        "id": "oSYzAkYrXDJ3"
      },
      "execution_count": null,
      "outputs": []
    },
    {
      "cell_type": "code",
      "source": [
        "print(ppt_start_date)"
      ],
      "metadata": {
        "colab": {
          "base_uri": "https://localhost:8080/"
        },
        "id": "fdRHAvwbvboF",
        "outputId": "b96612fc-7fd1-4e3b-d91c-cac2c573129b"
      },
      "execution_count": null,
      "outputs": [
        {
          "output_type": "stream",
          "name": "stdout",
          "text": [
            "['2024-07-10', '2024-07-10', 0, 0, 0, 0, '2024-07-15']\n"
          ]
        }
      ]
    },
    {
      "cell_type": "code",
      "source": [
        "def create_event(service, calendar_id, event_details):\n",
        "    event = service.events().insert(calendarId=calendar_id, body=event_details).execute()\n",
        "    print(f'Event created: {event.get(\"htmlLink\")}')\n",
        "\n",
        "def delete_events(service, calendar_id, event_id):\n",
        "  try:\n",
        "    service.events().delete(calendarId=calendar_id, eventId=event_id).execute()\n",
        "    print(f\"Event with ID {event_id} deleted successfully.\")\n",
        "  except Exception as e:\n",
        "    print(f\"An error occurred: {e}\")"
      ],
      "metadata": {
        "id": "tyOr0A2-Xjl8"
      },
      "execution_count": null,
      "outputs": []
    },
    {
      "cell_type": "code",
      "source": [
        "\"\"\"\n",
        "'c_f8df263786d1c9e1e61fed3864fb410b5c37d6b3b816fd77b2e8ac4caaa08f6e@group.calendar.google.com', #iddd ug\n",
        "    'c_fded5f2b3bad8dccc9e19570bf73252a79803f686edb3e790c132da95bb550a2@group.calendar.google.com', #ae ug\n",
        "    'c_916b6bcb66941c40ab3099a25d559ad82487608115eb352c78f6d9f7849bc9b2@group.calendar.google.com',#bt ug\n",
        "    'c_2608f770a44cfb9a2f4c999b65dcb71a3f91d70e6c4b1fa8fcb0455f7e443bea@group.calendar.google.com',#ce ug\n",
        "    'c_0804bb01cc940c1457c10df562004489a7fde53da89493406f25e886ccefc6cf@group.calendar.google.com',#ch ug\n",
        "    'c_05597bc0866b450776c80d190ece8b2ddd9aa477a3d243d283ccecc50d72641c@group.calendar.google.com',#cs ug\n",
        "    'c_942a732c5870d6b8e53e95eebe95dd1cbe7e14436af7540c0a7b386a16f14d51@group.calendar.google.com',#ed ug\n",
        "    'c_6cf3588e18654136f7d5bcc8b0a3ca9bb89f0d5674bc44599e2117ed47f6d388@group.calendar.google.com',#ee ug\n",
        "    'c_c0eb1b37720cc5600f58d5df251ba78f97758dfc1936f906339bb204a9c5e2f9@group.calendar.google.com',#ep ug\n",
        "    'c_9baaec817b5cb295296cded565648720eda8bf6a92d75d5615ae7497c5619266@group.calendar.google.com',#hs ug\n",
        "    'c_831fbeacd9d567cd78c9baeb5c0a8c591009333b954ea223664f31ada6f3a43a@group.calendar.google.com',#me ug\n",
        "    'c_d4d43f7cee75c4ec4e7c7ba21586404ebbb04cafaa09bb75179b8f4a6816f585@group.calendar.google.com',#mm ug\n",
        "    'c_bd042a6839e5277e9176a084b63990f7c168e228dec10eb37d21e6c488011488@group.calendar.google.com',#na ug\n",
        "\"\"\""
      ],
      "metadata": {
        "colab": {
          "base_uri": "https://localhost:8080/"
        },
        "id": "FdU7prV4g88r",
        "outputId": "2f8b255b-0852-4a47-a35f-25b3720dbce2"
      },
      "execution_count": null,
      "outputs": [
        {
          "output_type": "stream",
          "name": "stdout",
          "text": [
            "c_831fbeacd9d567cd78c9baeb5c0a8c591009333b954ea223664f31ada6f3a43a@group.calendar.google.com\n"
          ]
        }
      ]
    },
    {
      "cell_type": "code",
      "source": [
        "string = \"L,L_IDDD_CO,L_ME_0\"\n",
        "delimiters = [\",\", \"_\"]\n",
        "\n",
        "for delimiter in delimiters:\n",
        "    string = \" \".join(string.split(delimiter))\n",
        "\n",
        "result = string.split()\n",
        "print(result)"
      ],
      "metadata": {
        "colab": {
          "base_uri": "https://localhost:8080/"
        },
        "id": "8e4f1PfYEFTe",
        "outputId": "6767dcc7-6393-4efc-aa58-b7959bf99e2f"
      },
      "execution_count": null,
      "outputs": [
        {
          "output_type": "stream",
          "name": "stdout",
          "text": [
            "['L', 'L', 'IDDD', 'CO', 'L', 'ME', '0']\n"
          ]
        }
      ]
    },
    {
      "cell_type": "code",
      "source": [
        "print(calendar_ids[10])"
      ],
      "metadata": {
        "colab": {
          "base_uri": "https://localhost:8080/"
        },
        "id": "ToYxbtp3LiK0",
        "outputId": "a996757c-a36b-4f43-f2c4-15324e02c9b6"
      },
      "execution_count": null,
      "outputs": [
        {
          "output_type": "stream",
          "name": "stdout",
          "text": [
            "c_831fbeacd9d567cd78c9baeb5c0a8c591009333b954ea223664f31ada6f3a43a@group.calendar.google.com\n"
          ]
        }
      ]
    },
    {
      "cell_type": "code",
      "source": [
        "\"\"\"\n",
        "Deleting Deleting\n",
        "UG={0:[\"IDDD\"],1:[\"AE\"],2:[\"BE\",\"BS\"],3:[\"CE\"],4:[\"CH\"],5:[\"CS\"],6:[\"ED\"],7:[\"EE\"],8:[\"EP\",\"PH\"],9:[\"IMA\"],10:[\"ME\"],11:[\"MM\"],12:[\"NA\"]}\n",
        "for keys in UG:\n",
        "  cal_id=calendar_ids[keys]\n",
        "  events = []\n",
        "  page_token = None\n",
        "  while True:\n",
        "    events_result = service.events().list(calendarId=cal_id, pageToken=page_token).execute()\n",
        "    events.extend(events_result.get('items', []))\n",
        "    page_token = events_result.get('nextPageToken')\n",
        "    if not page_token:\n",
        "      break\n",
        "  for event in events:\n",
        "    delete_events(service, cal_id, event['id'])\n",
        "\n",
        "\"\"\"\n"
      ],
      "metadata": {
        "colab": {
          "base_uri": "https://localhost:8080/"
        },
        "id": "v7BenfXGgeIQ",
        "outputId": "3718ca66-4411-45c1-e36f-eb4cb0818202"
      },
      "execution_count": null,
      "outputs": [
        {
          "output_type": "stream",
          "name": "stdout",
          "text": [
            "An error occurred: <HttpError 404 when requesting https://www.googleapis.com/calendar/v3/calendars/c_f8df263786d1c9e1e61fed3864fb410b5c37d6b3b816fd77b2e8ac4caaa08f6e%40group.calendar.google.com/events/d3fuhlu0mrvtq2qr1vovel2hp4? returned \"Not Found\". Details: \"[{'domain': 'global', 'reason': 'notFound', 'message': 'Not Found'}]\">\n",
            "An error occurred: <HttpError 404 when requesting https://www.googleapis.com/calendar/v3/calendars/c_f8df263786d1c9e1e61fed3864fb410b5c37d6b3b816fd77b2e8ac4caaa08f6e%40group.calendar.google.com/events/tb08c0markf8j2cquevfl8ef8s? returned \"Not Found\". Details: \"[{'domain': 'global', 'reason': 'notFound', 'message': 'Not Found'}]\">\n",
            "An error occurred: <HttpError 404 when requesting https://www.googleapis.com/calendar/v3/calendars/c_f8df263786d1c9e1e61fed3864fb410b5c37d6b3b816fd77b2e8ac4caaa08f6e%40group.calendar.google.com/events/en6pcvl12gg8ib9iur3lkm3jn8? returned \"Not Found\". Details: \"[{'domain': 'global', 'reason': 'notFound', 'message': 'Not Found'}]\">\n",
            "An error occurred: <HttpError 404 when requesting https://www.googleapis.com/calendar/v3/calendars/c_f8df263786d1c9e1e61fed3864fb410b5c37d6b3b816fd77b2e8ac4caaa08f6e%40group.calendar.google.com/events/c8t3k8im4mp9iip0r6ei4t28mo? returned \"Not Found\". Details: \"[{'domain': 'global', 'reason': 'notFound', 'message': 'Not Found'}]\">\n",
            "An error occurred: <HttpError 404 when requesting https://www.googleapis.com/calendar/v3/calendars/c_f8df263786d1c9e1e61fed3864fb410b5c37d6b3b816fd77b2e8ac4caaa08f6e%40group.calendar.google.com/events/t6gk9d4idjd7g3cgr68nk1c9is? returned \"Not Found\". Details: \"[{'domain': 'global', 'reason': 'notFound', 'message': 'Not Found'}]\">\n",
            "An error occurred: <HttpError 404 when requesting https://www.googleapis.com/calendar/v3/calendars/c_f8df263786d1c9e1e61fed3864fb410b5c37d6b3b816fd77b2e8ac4caaa08f6e%40group.calendar.google.com/events/bvu31a90qsdtkt47vifi9ovq9k? returned \"Not Found\". Details: \"[{'domain': 'global', 'reason': 'notFound', 'message': 'Not Found'}]\">\n",
            "An error occurred: <HttpError 404 when requesting https://www.googleapis.com/calendar/v3/calendars/c_f8df263786d1c9e1e61fed3864fb410b5c37d6b3b816fd77b2e8ac4caaa08f6e%40group.calendar.google.com/events/judg8pagg9r8vbgof32s320f7s? returned \"Not Found\". Details: \"[{'domain': 'global', 'reason': 'notFound', 'message': 'Not Found'}]\">\n",
            "An error occurred: <HttpError 404 when requesting https://www.googleapis.com/calendar/v3/calendars/c_f8df263786d1c9e1e61fed3864fb410b5c37d6b3b816fd77b2e8ac4caaa08f6e%40group.calendar.google.com/events/2co5bb4m328frfo847ot55qp64? returned \"Not Found\". Details: \"[{'domain': 'global', 'reason': 'notFound', 'message': 'Not Found'}]\">\n",
            "An error occurred: <HttpError 404 when requesting https://www.googleapis.com/calendar/v3/calendars/c_f8df263786d1c9e1e61fed3864fb410b5c37d6b3b816fd77b2e8ac4caaa08f6e%40group.calendar.google.com/events/4p80qhh6vvkhmam1j62qd72154? returned \"Not Found\". Details: \"[{'domain': 'global', 'reason': 'notFound', 'message': 'Not Found'}]\">\n",
            "An error occurred: <HttpError 404 when requesting https://www.googleapis.com/calendar/v3/calendars/c_f8df263786d1c9e1e61fed3864fb410b5c37d6b3b816fd77b2e8ac4caaa08f6e%40group.calendar.google.com/events/h3mjqmjlukheu57kov6iqbms3s? returned \"Not Found\". Details: \"[{'domain': 'global', 'reason': 'notFound', 'message': 'Not Found'}]\">\n",
            "An error occurred: <HttpError 404 when requesting https://www.googleapis.com/calendar/v3/calendars/c_f8df263786d1c9e1e61fed3864fb410b5c37d6b3b816fd77b2e8ac4caaa08f6e%40group.calendar.google.com/events/n3rsu6bknacscjsp8g06ilbaoc? returned \"Not Found\". Details: \"[{'domain': 'global', 'reason': 'notFound', 'message': 'Not Found'}]\">\n",
            "An error occurred: <HttpError 404 when requesting https://www.googleapis.com/calendar/v3/calendars/c_f8df263786d1c9e1e61fed3864fb410b5c37d6b3b816fd77b2e8ac4caaa08f6e%40group.calendar.google.com/events/4vtee8sjs43ehr53ni1hv8lsp4? returned \"Not Found\". Details: \"[{'domain': 'global', 'reason': 'notFound', 'message': 'Not Found'}]\">\n",
            "An error occurred: <HttpError 404 when requesting https://www.googleapis.com/calendar/v3/calendars/c_f8df263786d1c9e1e61fed3864fb410b5c37d6b3b816fd77b2e8ac4caaa08f6e%40group.calendar.google.com/events/odca9irl4g5msvmt9hha3758vc? returned \"Not Found\". Details: \"[{'domain': 'global', 'reason': 'notFound', 'message': 'Not Found'}]\">\n",
            "An error occurred: <HttpError 404 when requesting https://www.googleapis.com/calendar/v3/calendars/c_f8df263786d1c9e1e61fed3864fb410b5c37d6b3b816fd77b2e8ac4caaa08f6e%40group.calendar.google.com/events/c8blv2e7m01ifs1vrkiel68pj0? returned \"Not Found\". Details: \"[{'domain': 'global', 'reason': 'notFound', 'message': 'Not Found'}]\">\n",
            "An error occurred: <HttpError 404 when requesting https://www.googleapis.com/calendar/v3/calendars/c_f8df263786d1c9e1e61fed3864fb410b5c37d6b3b816fd77b2e8ac4caaa08f6e%40group.calendar.google.com/events/vmj9sodg7q4gte4882sb01s8jk? returned \"Not Found\". Details: \"[{'domain': 'global', 'reason': 'notFound', 'message': 'Not Found'}]\">\n",
            "An error occurred: <HttpError 404 when requesting https://www.googleapis.com/calendar/v3/calendars/c_f8df263786d1c9e1e61fed3864fb410b5c37d6b3b816fd77b2e8ac4caaa08f6e%40group.calendar.google.com/events/0n15tjllqhi1sq3voh1gjt2jkc? returned \"Not Found\". Details: \"[{'domain': 'global', 'reason': 'notFound', 'message': 'Not Found'}]\">\n",
            "An error occurred: <HttpError 404 when requesting https://www.googleapis.com/calendar/v3/calendars/c_f8df263786d1c9e1e61fed3864fb410b5c37d6b3b816fd77b2e8ac4caaa08f6e%40group.calendar.google.com/events/3bgc8pp959sk349lemoti43gcg? returned \"Not Found\". Details: \"[{'domain': 'global', 'reason': 'notFound', 'message': 'Not Found'}]\">\n",
            "An error occurred: <HttpError 404 when requesting https://www.googleapis.com/calendar/v3/calendars/c_f8df263786d1c9e1e61fed3864fb410b5c37d6b3b816fd77b2e8ac4caaa08f6e%40group.calendar.google.com/events/npacpd75scs2qrqqo8k0505loo? returned \"Not Found\". Details: \"[{'domain': 'global', 'reason': 'notFound', 'message': 'Not Found'}]\">\n",
            "An error occurred: <HttpError 404 when requesting https://www.googleapis.com/calendar/v3/calendars/c_f8df263786d1c9e1e61fed3864fb410b5c37d6b3b816fd77b2e8ac4caaa08f6e%40group.calendar.google.com/events/nhbvh4nb3t5uoq9thl56iibhd4? returned \"Not Found\". Details: \"[{'domain': 'global', 'reason': 'notFound', 'message': 'Not Found'}]\">\n",
            "An error occurred: <HttpError 404 when requesting https://www.googleapis.com/calendar/v3/calendars/c_f8df263786d1c9e1e61fed3864fb410b5c37d6b3b816fd77b2e8ac4caaa08f6e%40group.calendar.google.com/events/7i8mp1m2rcvj5l75teeqb8eqrk? returned \"Not Found\". Details: \"[{'domain': 'global', 'reason': 'notFound', 'message': 'Not Found'}]\">\n",
            "An error occurred: <HttpError 404 when requesting https://www.googleapis.com/calendar/v3/calendars/c_f8df263786d1c9e1e61fed3864fb410b5c37d6b3b816fd77b2e8ac4caaa08f6e%40group.calendar.google.com/events/s3uk6pf33n30ae71jcb2n343s0? returned \"Not Found\". Details: \"[{'domain': 'global', 'reason': 'notFound', 'message': 'Not Found'}]\">\n",
            "Event with ID um86ie7qqietfg2n6mlq2p8uug deleted successfully.\n",
            "Event with ID as8cgmrqvrh48d2jf6ki5onleo deleted successfully.\n",
            "Event with ID dskp9atpku43lbnarhueaq1v5c deleted successfully.\n",
            "Event with ID nn8apa3b1bu862v8q50q70cvec deleted successfully.\n",
            "Event with ID 8shbrad5qt3iicoqgsliteo72c deleted successfully.\n",
            "Event with ID pcnba2lp8g5nm8gqb4mjcltb0k deleted successfully.\n",
            "Event with ID hu8ulvb10ovkvu94bo7eq66d5o deleted successfully.\n",
            "Event with ID 8jf0e41t0sdv32br2upp0tr5o8 deleted successfully.\n",
            "Event with ID vupabguoonniq6c78mmhli7470 deleted successfully.\n",
            "Event with ID ut1shgj831vfsgpaf7d679pc1k deleted successfully.\n",
            "Event with ID avqv7bet858bbb3oel93op3o3g deleted successfully.\n",
            "Event with ID lqdeqp7efk6r6i0h1m1aa4i3bk deleted successfully.\n",
            "Event with ID prdjh1nitnib0jsvd7d5t466m8 deleted successfully.\n",
            "Event with ID pqpd7q9jtuufnssvd0vegfjcbc deleted successfully.\n",
            "Event with ID 722ufufa9t54v4fcahh2aifsqk deleted successfully.\n",
            "Event with ID drk69ml7l5a4p1gh6mqmog47o8 deleted successfully.\n",
            "Event with ID 3ibvlafb1p3jetubqrlmq3t4hc deleted successfully.\n",
            "Event with ID v5tuvs9li1i42b8eh4sau1q1p0 deleted successfully.\n",
            "Event with ID 98nr98aesd5m9u3k0oi6qocr9c deleted successfully.\n",
            "Event with ID ljkr5f5ou6obria7hb2oqq6uo4 deleted successfully.\n",
            "Event with ID e7clcdksc5k77180dhk2qg01f0 deleted successfully.\n",
            "Event with ID 9g219ehh1ccsvj1hfa52rtthuk deleted successfully.\n",
            "Event with ID imaqpppuedb0h3tqi1u7qqu7e0 deleted successfully.\n",
            "Event with ID oq8i31kgtak1ml6cmpkd7l8lkc deleted successfully.\n",
            "Event with ID 59mbjcd46esfad7vp51e6gsle8 deleted successfully.\n",
            "Event with ID 2ldlrfl44ii5b5782hisgpi49c deleted successfully.\n",
            "Event with ID mb3nj0go3e32u77m812gk9dorc deleted successfully.\n",
            "Event with ID n7it6bdnsjs3c7pcu91hvpu0s8 deleted successfully.\n",
            "Event with ID 5np30pg4lqj27um2pt41tabs5s deleted successfully.\n",
            "Event with ID 2l8c70dm396rvtbi4fbkmj8s2o deleted successfully.\n",
            "Event with ID colkhik2v9gk9ah1he3h14sjts deleted successfully.\n",
            "Event with ID qlj2m7hleqgqfo15qa475al004 deleted successfully.\n",
            "Event with ID aflimf7oj7ccu4otpipkdmcbe0 deleted successfully.\n",
            "Event with ID 6rlag97ua6efi96o77tofrtdsk deleted successfully.\n",
            "Event with ID ijj879guhp244l460cih04n964 deleted successfully.\n",
            "Event with ID 7s1a5nol7s0cqrrpmq804hdgtg deleted successfully.\n",
            "Event with ID kt5q0a18tkjmeoucvurr07anlo deleted successfully.\n",
            "Event with ID 5q4kubrdbp5955el9vcanb1f1c deleted successfully.\n",
            "Event with ID idgk9e43m96bb7nb559cdloehc deleted successfully.\n",
            "Event with ID b22h6ufegfn4gr3qjr963p7uq4 deleted successfully.\n",
            "Event with ID 4262ss76d6r1sk26q001sevfes deleted successfully.\n",
            "Event with ID hf2g99rsph9b8rtkcgrts4q8ms deleted successfully.\n",
            "Event with ID tfhnkmke65t5h2loahai95ug5c deleted successfully.\n",
            "Event with ID vhkquuqpf2nu58vftdrv9n1g5o deleted successfully.\n",
            "Event with ID 4tnrvpt2vnfertv5ggn9hnr4k8 deleted successfully.\n",
            "Event with ID 7eg47ud46en85u5d8ik01vseic deleted successfully.\n",
            "Event with ID 64hpmke5lbm6t8tue2v2ti1dc8 deleted successfully.\n",
            "Event with ID eigm3b3jg4tli506frb4beviek deleted successfully.\n",
            "Event with ID 0me93fqr516jhl6nlkufhj9s7s deleted successfully.\n",
            "Event with ID cfre09fu0qhtrgvn1oq6d44s5s deleted successfully.\n",
            "Event with ID kvdogidaorj2moc06kg7ulla94 deleted successfully.\n",
            "Event with ID ifceq1bm63uptkic5rmdgkaqpo deleted successfully.\n",
            "Event with ID gq3p5ev86rkqgkcccoieskic74 deleted successfully.\n",
            "Event with ID qtea4f52tqli1icto6ic1kg23g deleted successfully.\n",
            "Event with ID vripaqecjpdr90l86th6vi4jg4 deleted successfully.\n",
            "Event with ID 299it4r1dkvdranvrnlbbtdf98 deleted successfully.\n",
            "Event with ID 7u3fr79ivm63kgmft2hv80nltg deleted successfully.\n",
            "Event with ID dn8c6dpg43vlor81guiibsecpg deleted successfully.\n",
            "Event with ID s3v6hpj18e60cin1mo99havuik deleted successfully.\n",
            "Event with ID p39j9tbaq9mb32r3u76bn08sok deleted successfully.\n",
            "Event with ID haqnfvnr52v3b0feog32dj6250 deleted successfully.\n",
            "Event with ID 5g1drel772bf8ensc4278n7pck deleted successfully.\n",
            "Event with ID u97et44k3o2eie8a868n4i5k9o deleted successfully.\n",
            "Event with ID 89nhh4dpf23p11vd5v2fuovvvc deleted successfully.\n",
            "Event with ID gilphpvhc9so980lh58cmiak0o deleted successfully.\n",
            "Event with ID m7laj8ghj0sv0ntq20eblf7vss deleted successfully.\n",
            "Event with ID 2e3umn3s7igtij7fphqjb5djo8 deleted successfully.\n",
            "Event with ID ivcpirvc84nkcvrf7pki5p58hg deleted successfully.\n",
            "Event with ID sb15ngh24fencb14foafv3epjc deleted successfully.\n",
            "Event with ID 8dd093nai58ks46q7n1klo07bc deleted successfully.\n",
            "Event with ID 3d5vfuj2113jlcet53kunb58ic deleted successfully.\n",
            "Event with ID bmie62tcpv1k33k3c3t083v594 deleted successfully.\n",
            "Event with ID gspj34lbuu11grt6esv6murevk deleted successfully.\n",
            "Event with ID 15sfk9mec8drvafjbcup1rd2vc deleted successfully.\n",
            "Event with ID h52b0utesv9uhdqhvmom9go804 deleted successfully.\n",
            "Event with ID 1ph6hl9reemt6rqn5e6imcn4bk deleted successfully.\n",
            "Event with ID qbn6ma53ess4i9utim1sgi7g5k deleted successfully.\n",
            "Event with ID fcdql5ius7jfecadglrtan2je4 deleted successfully.\n",
            "Event with ID j7jm0mk26bsbhoelojhm34jerc deleted successfully.\n",
            "Event with ID licj1l8m3cmmhnv3s3jtla9tl8 deleted successfully.\n",
            "Event with ID dvpiirlhcq7gjullne3e8l9ljc deleted successfully.\n",
            "Event with ID a44r67ebvbqmtm4vf4d5rl7g8s deleted successfully.\n",
            "Event with ID kv50mh25gdhg31kbuok70db4m0 deleted successfully.\n",
            "Event with ID tv8pjbm9sdnjus8ratt2vlmu70 deleted successfully.\n",
            "Event with ID be5cg5n75pbh3lr88ik1k88520 deleted successfully.\n",
            "Event with ID raljdrt150062flt561tfusltc deleted successfully.\n",
            "Event with ID ur44o1liks96psvmn54sv4psh8 deleted successfully.\n",
            "Event with ID 5i35lr37bmfqcd83c7jklunbfg deleted successfully.\n",
            "Event with ID 4lk6av1s6vpimsoupl6nbda6jo deleted successfully.\n",
            "Event with ID bhdtnl950pbekif2jlov6f2b3g deleted successfully.\n",
            "Event with ID ud6hqklc7qkrc64a7oe9kl5448 deleted successfully.\n",
            "Event with ID b107ao21mup4kps51u5v8r87s0 deleted successfully.\n",
            "Event with ID 9kruvdgtgqb0qosapk6tsk3om0 deleted successfully.\n",
            "Event with ID p0alcoinnk535obvrshj9pjr70 deleted successfully.\n",
            "Event with ID 355qf7muptvr8ekrgscco2127c deleted successfully.\n",
            "Event with ID glt788740hgjh2ic7nkqbf0jp4 deleted successfully.\n",
            "Event with ID 8moev9nsverq2pp4mv4el7nb04 deleted successfully.\n",
            "Event with ID t787lmsnh0d2rpplp1olr2p0kg deleted successfully.\n",
            "Event with ID 6ifq6ksmbkha8eldttiabndo40 deleted successfully.\n",
            "Event with ID m5r8btb65jejjbetv71fmt367s deleted successfully.\n",
            "Event with ID 9nspnfarerf6ef34m635bpe6ek deleted successfully.\n",
            "Event with ID nog64bh7ihrtmr3h9ltuua9aqs deleted successfully.\n",
            "Event with ID kic5u5kpnmt27n07timnssjrmc deleted successfully.\n",
            "Event with ID fib5rg51q9jnldfq2vi9fngu00 deleted successfully.\n",
            "Event with ID lok6crtop9ts0l558gktr4mfh4 deleted successfully.\n",
            "Event with ID spbvv99o02erblr5t5avgbcbg8 deleted successfully.\n",
            "Event with ID pmc59s9dqjvcqi2khisnmm1pgk deleted successfully.\n",
            "Event with ID vh7a3k0flobeg1djqno823hg30 deleted successfully.\n",
            "Event with ID j4ibmmtovaphkgq792hgr8uvds deleted successfully.\n",
            "Event with ID p9dtolu550jv1nocoh5fmgoass deleted successfully.\n",
            "Event with ID o486cq1626eiqs7cubh0tnsdgk deleted successfully.\n",
            "Event with ID c0eob0v1sbct8p1vnclje08p7g deleted successfully.\n",
            "Event with ID ufukd3nfppc3ph55hujragvb08 deleted successfully.\n",
            "Event with ID 7a98le52a4d3vjm94ri7ubv4l4 deleted successfully.\n",
            "Event with ID 4p4m76bqrbihpcii2etm0uf34c deleted successfully.\n",
            "Event with ID vnbhi0lvto9g4odjc6i1t86i3c deleted successfully.\n",
            "Event with ID o18jsag3norb3l68gij3co7qfg deleted successfully.\n",
            "Event with ID morpbg5i6rdgurbk3c20d4osb4 deleted successfully.\n",
            "Event with ID lh09425injq81gtast882najq0 deleted successfully.\n",
            "Event with ID u8j5eui62o5dmi11b4jssai2i8 deleted successfully.\n",
            "Event with ID dj0kblipchdhrd6kvqjbocj9eo deleted successfully.\n",
            "Event with ID pmg0vlodhe6uels62f4oiqoc0c deleted successfully.\n",
            "Event with ID clt3810u6t0hh0o4f0askkcjf8 deleted successfully.\n",
            "Event with ID cg3ks8ifu67khrhdfvjf24ela8 deleted successfully.\n",
            "Event with ID da5fnogbf89k9oqs3c8o5pg7v4 deleted successfully.\n",
            "Event with ID gv55hrkd01jn40q37lj7k8tbp0 deleted successfully.\n",
            "Event with ID 5krktunei7a704slp2hacbpuo8 deleted successfully.\n",
            "Event with ID 3cks4dm5p33bf1fq06crka91io deleted successfully.\n",
            "Event with ID jn0v9vd3fnp7ju0pa2k12f1u24 deleted successfully.\n",
            "Event with ID isi6af9tksj4vpg1j7mg3h97as deleted successfully.\n",
            "Event with ID 6q3uo2oo7ivjcu7s8ohl6msh3c deleted successfully.\n",
            "Event with ID 10gmkookdl8cfjivu7j46c206g deleted successfully.\n",
            "Event with ID fqemi6bfoccjvbp9qbf05s09i8 deleted successfully.\n",
            "Event with ID 9nr6ljsd1bphd5js2aehsu8krg deleted successfully.\n",
            "Event with ID rg9c8ursis84hanp0tedefadvc deleted successfully.\n",
            "Event with ID ntjdvb273bim7uib62lct4pnjk deleted successfully.\n",
            "Event with ID op1mp0tnqeaed852rnbiohknr8 deleted successfully.\n",
            "Event with ID hovqqraev7cn719gtejbr7c0u4 deleted successfully.\n",
            "Event with ID rg8g7seimasojq2ie8n087vr9c deleted successfully.\n",
            "Event with ID ctv2ea6lfv7p2gqu3ocuhu8pd4 deleted successfully.\n",
            "Event with ID lplluvglt8ukjsimt06pdrq6i0 deleted successfully.\n",
            "Event with ID 5g9657fo1rd7ea7p0ev2gjfrtk deleted successfully.\n",
            "Event with ID ggv9rp7v5htp6b6tnhiv634qhg deleted successfully.\n",
            "Event with ID qfq4rq4vjp0h8hg95la5lbtfkk deleted successfully.\n",
            "Event with ID hm2t45hmsmcpfmi4b1gh7m1k44 deleted successfully.\n",
            "Event with ID lr8270pmpc1t1m9g07ivgrirng deleted successfully.\n",
            "Event with ID 8ra8iv6fn29bfihr0gnfdchlbs deleted successfully.\n",
            "Event with ID lvga59bl70k9qbet3pqm49vh0o deleted successfully.\n",
            "Event with ID ugsqvs7uhlrmu29v6gupclfu2s deleted successfully.\n",
            "Event with ID ps3l53tfdtgcb6mrcss6krc70g deleted successfully.\n",
            "Event with ID iim6aopb5kfb7vduuu298rr4mc deleted successfully.\n",
            "Event with ID fh2hv6ehqok6fq93mli3evd3vg deleted successfully.\n",
            "Event with ID udl0kn3olrj9ksiclca08u1c8g deleted successfully.\n",
            "Event with ID lurh7isisdl1oigtpg7n2d4ov8 deleted successfully.\n",
            "Event with ID rkfqgo82s2b8otih9gfva8kdbg deleted successfully.\n",
            "Event with ID te1jel2ir2k7cckjlfe0mo8i44 deleted successfully.\n",
            "Event with ID tc8alm7nseb3u1seohjhb83290 deleted successfully.\n",
            "Event with ID iamaro6tuk2c17rt92k3staq8o deleted successfully.\n",
            "Event with ID tfvrvdb6d87gjbrcqnsuf4m6tc deleted successfully.\n",
            "Event with ID d187out88vr7tmhbl30ldfbq60 deleted successfully.\n",
            "Event with ID djkl83j3h4o61vov634183a7f0 deleted successfully.\n",
            "Event with ID fvlg1pbsh0g2ehvk3f8kqi25ug deleted successfully.\n",
            "Event with ID g22mf63pdfchhdfioro1uo3u34 deleted successfully.\n",
            "Event with ID k7dp43cflk7mhrfisdcb94l08k deleted successfully.\n",
            "Event with ID knt99m1fsg5kveu06gjpvdhei8 deleted successfully.\n",
            "Event with ID p3aheemchd1k099eqguvs82bho deleted successfully.\n",
            "Event with ID hbvjk1egv33s195rvr4c4gnefs deleted successfully.\n",
            "Event with ID 3bpf03j5cl9orqahjk5qusg660 deleted successfully.\n",
            "Event with ID bppsaqcih53q2sqk3j18k2109k deleted successfully.\n",
            "Event with ID a0b2m4dmreri2ifirqjd2ap1io deleted successfully.\n",
            "Event with ID 8tlhkm7qeq5333se8v77m8rbs0 deleted successfully.\n",
            "Event with ID 73u18rtocvpolftjbvqm65u9fc deleted successfully.\n",
            "Event with ID nfpk412racf0umb0p4bnajude8 deleted successfully.\n",
            "Event with ID 3fkl5jqrmojkhe9egh8qvfovj0 deleted successfully.\n",
            "Event with ID 0bkrdndfel941mhukflapv5c2s deleted successfully.\n",
            "Event with ID dgal3hcgftnguo66h6u4hr7s58 deleted successfully.\n",
            "Event with ID 34mg9ok2su4iuj6ip47vudegvs deleted successfully.\n",
            "Event with ID 8d5e1o9fgeahb27phdgkn4mgl0 deleted successfully.\n",
            "Event with ID pmvrlai4rqmmrehojnksah84k0 deleted successfully.\n",
            "Event with ID regvmf8f8p6r05mevgjlvcknhk deleted successfully.\n",
            "Event with ID 58635ilkrum2v345mucubt3jck deleted successfully.\n",
            "Event with ID 8mv1t2mg8rn7q167rh2pevlq4c deleted successfully.\n",
            "Event with ID p0c63f1hb2713k8p7etcprs9lg deleted successfully.\n",
            "Event with ID 4bfdm709f3u24gqpc5d8i49r4g deleted successfully.\n",
            "Event with ID pd6dr6ihjdvap6tcuodo3j2cmg deleted successfully.\n",
            "Event with ID d3fuhlu0mrvtq2qr1vovel2hp4 deleted successfully.\n",
            "Event with ID tb08c0markf8j2cquevfl8ef8s deleted successfully.\n",
            "Event with ID en6pcvl12gg8ib9iur3lkm3jn8 deleted successfully.\n",
            "Event with ID c8t3k8im4mp9iip0r6ei4t28mo deleted successfully.\n",
            "Event with ID t6gk9d4idjd7g3cgr68nk1c9is deleted successfully.\n",
            "Event with ID bvu31a90qsdtkt47vifi9ovq9k deleted successfully.\n",
            "Event with ID judg8pagg9r8vbgof32s320f7s deleted successfully.\n",
            "Event with ID 2co5bb4m328frfo847ot55qp64 deleted successfully.\n",
            "Event with ID 4p80qhh6vvkhmam1j62qd72154 deleted successfully.\n",
            "Event with ID h3mjqmjlukheu57kov6iqbms3s deleted successfully.\n",
            "Event with ID n3rsu6bknacscjsp8g06ilbaoc deleted successfully.\n",
            "Event with ID 4vtee8sjs43ehr53ni1hv8lsp4 deleted successfully.\n",
            "Event with ID odca9irl4g5msvmt9hha3758vc deleted successfully.\n",
            "Event with ID c8blv2e7m01ifs1vrkiel68pj0 deleted successfully.\n",
            "Event with ID vmj9sodg7q4gte4882sb01s8jk deleted successfully.\n",
            "Event with ID 0n15tjllqhi1sq3voh1gjt2jkc deleted successfully.\n",
            "Event with ID 3bgc8pp959sk349lemoti43gcg deleted successfully.\n",
            "Event with ID npacpd75scs2qrqqo8k0505loo deleted successfully.\n",
            "Event with ID nhbvh4nb3t5uoq9thl56iibhd4 deleted successfully.\n",
            "Event with ID 7i8mp1m2rcvj5l75teeqb8eqrk deleted successfully.\n",
            "Event with ID s3uk6pf33n30ae71jcb2n343s0 deleted successfully.\n",
            "Event with ID 0scls1t27ga2bk4jk7kuhjfh18 deleted successfully.\n",
            "Event with ID ap1175jojpfrnsa9f7on27c434 deleted successfully.\n",
            "Event with ID 1ah9voktr92lu7ginl0h5sl54k deleted successfully.\n",
            "Event with ID ofk9cc39kta6ebp9185ttg9k3c deleted successfully.\n",
            "Event with ID gkne3p0df8jegqc8o9f4s241ik deleted successfully.\n",
            "Event with ID 1sgijfrt1qk903cah6sjijo7vo deleted successfully.\n",
            "Event with ID 9e5h7abds3boeljqqjrfj2n238 deleted successfully.\n",
            "Event with ID 926j59ibr1msjri94f9et8u39o deleted successfully.\n",
            "Event with ID srt5s6qu6ag00uiofl4fbad49o deleted successfully.\n",
            "Event with ID 1m0fqra80l55dr0j020ph91ilc deleted successfully.\n",
            "Event with ID umaor7n9c0npd90s9f5r715ti0 deleted successfully.\n",
            "Event with ID 5c5dncam8il4srjeutdal4jmv0 deleted successfully.\n",
            "Event with ID re8tau4b6qp9j9bn67ccgvju14 deleted successfully.\n",
            "Event with ID iokl5tj1o08bievhitr1e87b84 deleted successfully.\n",
            "Event with ID s7b0muhphedu3s1t2pg3rvblhg deleted successfully.\n",
            "Event with ID orjotl4rgnm2emuoasd1vqiatk deleted successfully.\n",
            "Event with ID n53a62c7qo9gk474as9afk9hj4 deleted successfully.\n",
            "Event with ID a0ruo35ggisb7ad885855i1bco deleted successfully.\n",
            "Event with ID o2tvths28a47180kokq9q4ftl8 deleted successfully.\n",
            "Event with ID 2uutege6n49ig8nnhpgnrj0cog deleted successfully.\n",
            "Event with ID iu13tpcbm6v8rq502qcq8852f0 deleted successfully.\n"
          ]
        }
      ]
    },
    {
      "cell_type": "code",
      "source": [],
      "metadata": {
        "colab": {
          "base_uri": "https://localhost:8080/"
        },
        "id": "jLOgcf5Qv-Q5",
        "outputId": "dbe24454-2e12-4af1-e80a-66334d222be6"
      },
      "execution_count": null,
      "outputs": [
        {
          "output_type": "stream",
          "name": "stdout",
          "text": [
            "ye\n",
            "ye\n",
            "ye\n",
            "ye\n",
            "ye\n"
          ]
        }
      ]
    },
    {
      "cell_type": "code",
      "source": [
        "UG={0:\"IDDD\",1:\"AE\",2:[\"BE\",\"BS\"],3:\"CE\",4:\"CH\",5:\"CS\",6:\"ED\",7:\"EE\",8:[\"EP\",\"PH\"],9:\"IMA\",10:\"ME\",11:\"MM\",12:\"NA\"}\n",
        "b_btech=data.loc[:,23]\n",
        "b_dual=data.loc[:,24]\n",
        "b_ma=data.loc[:,28]\n",
        "for keys in UG:\n",
        "  for i in range(1,len(b_btech)):\n",
        "    if b_btech[i]!=0:\n",
        "      a=b_btech[i].split(',')\n",
        "    else:\n",
        "      a=[\"1\"]\n",
        "    if b_dual[i]!=0:\n",
        "      string=b_dual[i]\n",
        "      delimiters = [\",\", \"_\"]\n",
        "      for delimiter in delimiters:\n",
        "        string = \" \".join(string.split(delimiter))\n",
        "      b=string.split()\n",
        "    else:\n",
        "      b=[\"1\"]\n",
        "    if b_ma[i]!=0:\n",
        "      c=b_ma[i].split(',')\n",
        "    else:\n",
        "      c=[\"1\"]\n",
        "    open=0\n",
        "    if keys==0:\n",
        "      if UG[keys] in b or \"All\" in b:\n",
        "        open=1\n",
        "    elif keys==2:\n",
        "      if UG[keys][0] in b or UG[keys][1] in b or \"All\" in b:\n",
        "        open=1\n",
        "    elif keys==6:\n",
        "      if UG[keys] in b or \"All\" in b:\n",
        "        open=1\n",
        "    elif keys==8:\n",
        "      if UG[keys][0] in a or \"All\" in a or UG[keys][1] in b or \"All\" in b:\n",
        "        open=1\n",
        "    elif keys==9:\n",
        "      if UG[keys] in c or \"All\" in c:\n",
        "        open=1\n",
        "    else:\n",
        "      if UG[keys] in a or \"All\" in a or UG[keys] in b or \"All\" in b:\n",
        "        open=1\n",
        "\n",
        "\n",
        "    if open==1:\n",
        "      cal_id=calendar_ids[keys]\n",
        "      events = []\n",
        "      page_token = None\n",
        "      while True:\n",
        "        events_result = service.events().list(calendarId=cal_id, pageToken=page_token).execute()\n",
        "        events.extend(events_result.get('items', []))\n",
        "        page_token = events_result.get('nextPageToken')\n",
        "        if not page_token:\n",
        "          break\n",
        "      flag_r=0\n",
        "      for event in events:\n",
        "        if event['end'].get('dateTime', event['end'].get('date'))== str(start_date[i-1])+'T'+str(end_time[i-1])+'+05:30' and event['description']== str(data.loc[i,7])+'-Resume Deadline' and event['summary']==str(data.loc[i,2]) and event['start'].get('dateTime', event['start'].get('date'))==str(start_date[i-1])+'T'+str(start_time[i-1])+'+05:30' :\n",
        "          flag_r=1\n",
        "          break\n",
        "      if start_date[i-1]==0:\n",
        "        flag_r=1\n",
        "      if flag_r==0:\n",
        "        for event in events:\n",
        "          if event['summary']==str(data.loc[i,2]) and event['description']== str(data.loc[i,7])+'-Resume Deadline':\n",
        "            delete_events(service, cal_id, event['id'])\n",
        "\n",
        "        event_details_r = {\n",
        "        'summary': str(data.loc[i,2]),\n",
        "        'description': str(data.loc[i,7])+'-Resume Deadline',\n",
        "        'start': {\n",
        "          'dateTime': str(start_date[i-1])+'T'+str(start_time[i-1])+'+05:30',  # Using Asia/Kolkata timezone\n",
        "          'timeZone': 'Asia/Kolkata',\n",
        "                 },\n",
        "        'end': {\n",
        "          'dateTime': str(start_date[i-1])+'T'+str(end_time[i-1])+'+05:30',  # Using Asia/Kolkata timezone\n",
        "          'timeZone': 'Asia/Kolkata',\n",
        "               },\n",
        "\n",
        "                         }\n",
        "\n",
        "        try:\n",
        "          create_event(service, cal_id, event_details_r)\n",
        "        except Exception as e:\n",
        "          print(f'An error occurred: {e}',i,\"resume\")\n",
        "\n",
        "      flag_t=0\n",
        "      for event in events:\n",
        "        if event['end'].get('dateTime', event['end'].get('date'))== str(test_start_date[i-1])+'T'+str(test_start_time[i-1])+'+05:30' and event['description']== str(data.loc[i,7])+'-Test Starting' and event['summary']==str(data.loc[i,2]) and event['start'].get('dateTime', event['start'].get('date'))==str(test_start_date[i-1])+'T'+str(test_start_time[i-1])+'+05:30' :\n",
        "          flag_t=1\n",
        "          break\n",
        "      if test_start_date[i-1]==0:\n",
        "        flag_t=1\n",
        "      if flag_t==0:\n",
        "        for event in events:\n",
        "          if event['summary']==str(data.loc[i,2]) and event['description']== str(data.loc[i,7])+'-Test Starting':\n",
        "            delete_events(service, cal_id, event['id'])\n",
        "\n",
        "        event_details_t = {\n",
        "        'summary': str(data.loc[i,2]),\n",
        "        'description': str(data.loc[i,7])+'-Test Starting',\n",
        "        'start': {\n",
        "          'dateTime': str(test_start_date[i-1])+'T'+str(test_start_time[i-1])+'+05:30',  # Using Asia/Kolkata timezone\n",
        "          'timeZone': 'Asia/Kolkata',\n",
        "                 },\n",
        "        'end': {\n",
        "          'dateTime': str(test_start_date[i-1])+'T'+str(test_start_time[i-1])+'+05:30',  # Using Asia/Kolkata timezone\n",
        "          'timeZone': 'Asia/Kolkata',\n",
        "               },\n",
        "                         }\n",
        "\n",
        "        try:\n",
        "          create_event(service, cal_id, event_details_t)\n",
        "        except Exception as e:\n",
        "          print(f'An error occurred: {e}',i,\"test\")\n",
        "\n",
        "\n",
        "      flag_p=0\n",
        "      for event in events:\n",
        "        if event['end'].get('dateTime', event['end'].get('date'))== str(ppt_start_date[i-1])+'T'+str(ppt_start_time[i-1])+'+05:30' and event['description']== str(data.loc[i,7])+'-PPT Starting' and event['summary']==str(data.loc[i,2]) and event['start'].get('dateTime', event['start'].get('date'))==str(ppt_start_date[i-1])+'T'+str(ppt_start_time[i-1])+'+05:30' :\n",
        "          flag_p=1\n",
        "          break\n",
        "      if ppt_start_date[i-1]==0:\n",
        "        flag_p=1\n",
        "      if flag_p==0:\n",
        "        for event in events:\n",
        "          if event['summary']==str(data.loc[i,2]) and event['description']== str(data.loc[i,7])+'-PPT Starting':\n",
        "            delete_events(service, cal_id, event['id'])\n",
        "\n",
        "        event_details_p = {\n",
        "        'summary': str(data.loc[i,2]),\n",
        "        'description': str(data.loc[i,7])+'-PPT Starting',\n",
        "        'start': {\n",
        "          'dateTime': str(ppt_start_date[i-1])+'T'+str(ppt_start_time[i-1])+'+05:30',  # Using Asia/Kolkata timezone\n",
        "          'timeZone': 'Asia/Kolkata',\n",
        "                 },\n",
        "        'end': {\n",
        "          'dateTime': str(ppt_start_date[i-1])+'T'+str(ppt_start_time[i-1])+'+05:30',  # Using Asia/Kolkata timezone\n",
        "          'timeZone': 'Asia/Kolkata',\n",
        "               },\n",
        "\n",
        "                         }\n",
        "\n",
        "        try:\n",
        "          create_event(service, cal_id, event_details_p)\n",
        "        except Exception as e:\n",
        "          print(f'An error occurred: {e}',i,\"ppt\")\n",
        "\n",
        "\n",
        "\"\"\"\n",
        "for i in range(1,len(b_btech)):\n",
        "  if b_btech[i]!=0:\n",
        "    a=b_btech[i].split(',')\n",
        "  else:\n",
        "    a=[\"1\"]\n",
        "  if b_dual[i]!=0:\n",
        "    b=b_dual[i].split(',')\n",
        "  else:\n",
        "    b=[\"1\"]\n",
        "  if \"ME\" in a or \"L_ME_0\" in b or \"All\" in a or \"All\" in b:\n",
        "    cal_id=calendar_ids[0]\n",
        "    events = []\n",
        "    page_token = None\n",
        "    while True:\n",
        "      events_result = service.events().list(calendarId=cal_id, pageToken=page_token).execute()\n",
        "      events.extend(events_result.get('items', []))\n",
        "      page_token = events_result.get('nextPageToken')\n",
        "      if not page_token:\n",
        "        break\n",
        "    flag_r=0\n",
        "    for event in events:\n",
        "      if event['end'].get('dateTime', event['end'].get('date'))== str(start_date[i-1])+'T'+str(end_time[i-1])+'+05:30' and event['description']== str(data.loc[i,6])+'-Resume Deadline' and event['summary']==str(data.loc[i,2]) and event['start'].get('dateTime', event['start'].get('date'))==str(start_date[i-1])+'T'+str(start_time[i-1])+'+05:30' :\n",
        "        flag_r=1\n",
        "        break\n",
        "    if start_date[i-1]==0:\n",
        "      flag_r=1\n",
        "    if flag_r==0:\n",
        "      for event in events:\n",
        "        if event['summary']==str(data.loc[i,2]) and event['description']== str(data.loc[i,6])+'-Resume Deadline':\n",
        "          delete_events(service, cal_id, event['id'])\n",
        "\n",
        "      event_details_r = {\n",
        "      'summary': str(data.loc[i,2]),\n",
        "      'description': str(data.loc[i,6])+'-Resume Deadline',\n",
        "      'start': {\n",
        "        'dateTime': str(start_date[i-1])+'T'+str(start_time[i-1])+'+05:30',  # Using Asia/Kolkata timezone\n",
        "        'timeZone': 'Asia/Kolkata',\n",
        "               },\n",
        "      'end': {\n",
        "        'dateTime': str(start_date[i-1])+'T'+str(end_time[i-1])+'+05:30',  # Using Asia/Kolkata timezone\n",
        "        'timeZone': 'Asia/Kolkata',\n",
        "             },\n",
        "\n",
        "                       }\n",
        "\n",
        "      try:\n",
        "        create_event(service, cal_id, event_details_r)\n",
        "      except Exception as e:\n",
        "        print(f'An error occurred: {e}',i,\"resume\")\n",
        "\n",
        "    flag_t=0\n",
        "    for event in events:\n",
        "      if event['end'].get('dateTime', event['end'].get('date'))== str(test_start_date[i-1])+'T'+str(test_start_time[i-1])+'+05:30' and event['description']== str(data.loc[i,6])+'-Test Starting' and event['summary']==str(data.loc[i,2]) and event['start'].get('dateTime', event['start'].get('date'))==str(test_start_date[i-1])+'T'+str(test_start_time[i-1])+'+05:30' :\n",
        "        flag_t=1\n",
        "        break\n",
        "    if test_start_date[i-1]==0:\n",
        "      flag_t=1\n",
        "    if flag_t==0:\n",
        "      for event in events:\n",
        "        if event['summary']==str(data.loc[i,2]) and event['description']== str(data.loc[i,6])+'-Test Starting':\n",
        "          delete_events(service, cal_id, event['id'])\n",
        "\n",
        "      event_details_t = {\n",
        "      'summary': str(data.loc[i,2]),\n",
        "      'description': str(data.loc[i,6])+'-Test Starting',\n",
        "      'start': {\n",
        "        'dateTime': str(test_start_date[i-1])+'T'+str(test_start_time[i-1])+'+05:30',  # Using Asia/Kolkata timezone\n",
        "        'timeZone': 'Asia/Kolkata',\n",
        "               },\n",
        "      'end': {\n",
        "        'dateTime': str(test_start_date[i-1])+'T'+str(test_start_time[i-1])+'+05:30',  # Using Asia/Kolkata timezone\n",
        "        'timeZone': 'Asia/Kolkata',\n",
        "             },\n",
        "                       }\n",
        "\n",
        "      try:\n",
        "        create_event(service, cal_id, event_details_t)\n",
        "      except Exception as e:\n",
        "        print(f'An error occurred: {e}',i,\"test\")\n",
        "\n",
        "\n",
        "    flag_p=0\n",
        "    for event in events:\n",
        "      if event['end'].get('dateTime', event['end'].get('date'))== str(ppt_start_date[i-1])+'T'+str(ppt_start_time[i-1])+'+05:30' and event['description']== str(data.loc[i,6])+'-PPT Starting' and event['summary']==str(data.loc[i,2]) and event['start'].get('dateTime', event['start'].get('date'))==str(ppt_start_date[i-1])+'T'+str(ppt_start_time[i-1])+'+05:30' :\n",
        "        flag_p=1\n",
        "        break\n",
        "    if ppt_start_date[i-1]==0:\n",
        "      flag_p=1\n",
        "    if flag_p==0:\n",
        "      for event in events:\n",
        "        if event['summary']==str(data.loc[i,2]) and event['description']== str(data.loc[i,6])+'-PPT Starting':\n",
        "          delete_events(service, cal_id, event['id'])\n",
        "\n",
        "      event_details_p = {\n",
        "      'summary': str(data.loc[i,2]),\n",
        "      'description': str(data.loc[i,6])+'-PPT Starting',\n",
        "      'start': {\n",
        "        'dateTime': str(ppt_start_date[i-1])+'T'+str(ppt_start_time[i-1])+'+05:30',  # Using Asia/Kolkata timezone\n",
        "        'timeZone': 'Asia/Kolkata',\n",
        "               },\n",
        "      'end': {\n",
        "        'dateTime': str(ppt_start_date[i-1])+'T'+str(ppt_start_time[i-1])+'+05:30',  # Using Asia/Kolkata timezone\n",
        "        'timeZone': 'Asia/Kolkata',\n",
        "             },\n",
        "\n",
        "                       }\n",
        "\n",
        "      try:\n",
        "        create_event(service, cal_id, event_details_p)\n",
        "      except Exception as e:\n",
        "        print(f'An error occurred: {e}',i,\"ppt\")\n",
        "\n",
        "\n",
        "\n",
        "\n",
        "\n",
        "\n",
        "\n",
        "\n",
        "\n",
        "Btech=[\"AE\",\"CE\",\"CH\",\"CS\",\"EE\",\"EP\",\"ME\",\"MM\",\"NA\"]\n",
        "b_btech=data.loc[:,22]\n",
        "for i in range(1,len(b_btech)):\n",
        "  if b_btech[i]!=0:\n",
        "    a=b_btech[i].split(',')\n",
        "  else:\n",
        "    a=[\"1\"]\n",
        "  if \"ME\" in a:\n",
        "    cal_id=calendar_ids[1]\n",
        "    events_result = service.events().list(calendarId=cal_id).execute()\n",
        "    events = events_result.get('items', [])\n",
        "    flag=0\n",
        "    for event in events:\n",
        "      if event['end'].get('dateTime', event['end'].get('date'))== str(start_date[i-1])+'T'+str(end_time[i-1])+'+05:30' and event['description']== 'Resume Deadline' and event['summary']==str(data.loc[i,2]):\n",
        "        flag=1\n",
        "        break\n",
        "    if flag==0:\n",
        "      for event in events:\n",
        "        if event['summary']==str(data.loc[i,2]):\n",
        "          delete_events(service, cal_id, event['id'])\n",
        "\n",
        "      event_details_r = {\n",
        "      'summary': str(data.loc[i,2]),\n",
        "\n",
        "      'description': 'Resume Deadline',\n",
        "      'start': {\n",
        "        'dateTime': str(start_date[i-1])+'T'+str(start_time[i-1])+'+05:30',  # Using Asia/Kolkata timezone\n",
        "        'timeZone': 'Asia/Kolkata',\n",
        "      },\n",
        "       'end': {\n",
        "        'dateTime': str(start_date[i-1])+'T'+str(end_time[i-1])+'+05:30',  # Using Asia/Kolkata timezone\n",
        "        'timeZone': 'Asia/Kolkata',\n",
        "      },\n",
        "\n",
        "      'reminders': {\n",
        "        'useDefault': False,\n",
        "        'overrides': [\n",
        "\n",
        "            {'method': 'popup', 'minutes': 10},\n",
        "        ],\n",
        "     },\n",
        "     }\n",
        "     try:\n",
        "      create_event(service, cal_id, event_details_r)\n",
        "     except Exception as e:\n",
        "      print(f'An error occurred: {e}')\n",
        "\n",
        "\"\"\"\n",
        "\n"
      ],
      "metadata": {
        "colab": {
          "base_uri": "https://localhost:8080/",
          "height": 1000
        },
        "id": "c8kx-2RCXLAA",
        "outputId": "dc35a819-19ba-4021-f1c2-8b2a670cafb2"
      },
      "execution_count": null,
      "outputs": [
        {
          "output_type": "stream",
          "name": "stdout",
          "text": [
            "Event created: https://www.google.com/calendar/event?eid=N3RhbGtqdnAydmpuM2wwNzg0Nmo3dGQ5dmMgY19mOGRmMjYzNzg2ZDFjOWUxZTYxZmVkMzg2NGZiNDEwYjVjMzdkNmIzYjgxNmZkNzdiMmU4YWM0Y2FhYTA4ZjZlQGc\n",
            "Event created: https://www.google.com/calendar/event?eid=MzZoY2ttdTdicjhpZGRrcmVscGRrNGxnbGsgY19mOGRmMjYzNzg2ZDFjOWUxZTYxZmVkMzg2NGZiNDEwYjVjMzdkNmIzYjgxNmZkNzdiMmU4YWM0Y2FhYTA4ZjZlQGc\n",
            "Event created: https://www.google.com/calendar/event?eid=YmFqNmRqNXBnZXYzaTJhYzdpOHI3ZGVuY3MgY19mOGRmMjYzNzg2ZDFjOWUxZTYxZmVkMzg2NGZiNDEwYjVjMzdkNmIzYjgxNmZkNzdiMmU4YWM0Y2FhYTA4ZjZlQGc\n",
            "Event created: https://www.google.com/calendar/event?eid=M2FkZzVmM2J2MDVkMmVlMjE4NG11bHA4amMgY19mOGRmMjYzNzg2ZDFjOWUxZTYxZmVkMzg2NGZiNDEwYjVjMzdkNmIzYjgxNmZkNzdiMmU4YWM0Y2FhYTA4ZjZlQGc\n",
            "Event created: https://www.google.com/calendar/event?eid=cXNzZHBwNDhqOXF2aXRqOGUxN20yYmJhdWcgY19mOGRmMjYzNzg2ZDFjOWUxZTYxZmVkMzg2NGZiNDEwYjVjMzdkNmIzYjgxNmZkNzdiMmU4YWM0Y2FhYTA4ZjZlQGc\n",
            "Event created: https://www.google.com/calendar/event?eid=Z3RwcDVidWM0Zzl2NTRmcXBjaWU5NWhzMDAgY19mZGVkNWYyYjNiYWQ4ZGNjYzllMTk1NzBiZjczMjUyYTc5ODAzZjY4NmVkYjNlNzkwYzEzMmRhOTViYjU1MGEyQGc\n",
            "Event created: https://www.google.com/calendar/event?eid=cnUyMDhmOGlyMXF2bTYxdmZvc2Ewa2Z1Z2sgY19mZGVkNWYyYjNiYWQ4ZGNjYzllMTk1NzBiZjczMjUyYTc5ODAzZjY4NmVkYjNlNzkwYzEzMmRhOTViYjU1MGEyQGc\n",
            "Event created: https://www.google.com/calendar/event?eid=OWx2djc1ZTFtcTh2N2wzcWg3bGgxdHFiNzQgY19mZGVkNWYyYjNiYWQ4ZGNjYzllMTk1NzBiZjczMjUyYTc5ODAzZjY4NmVkYjNlNzkwYzEzMmRhOTViYjU1MGEyQGc\n",
            "Event created: https://www.google.com/calendar/event?eid=ZHFxM2JodHE0Y2Q2dTBpa25sYWhpYmw3dmMgY19mZGVkNWYyYjNiYWQ4ZGNjYzllMTk1NzBiZjczMjUyYTc5ODAzZjY4NmVkYjNlNzkwYzEzMmRhOTViYjU1MGEyQGc\n",
            "Event created: https://www.google.com/calendar/event?eid=dWNqZ2ZyMmt0OTR0czNmdm1tMmtkbzZmczAgY19mZGVkNWYyYjNiYWQ4ZGNjYzllMTk1NzBiZjczMjUyYTc5ODAzZjY4NmVkYjNlNzkwYzEzMmRhOTViYjU1MGEyQGc\n",
            "Event created: https://www.google.com/calendar/event?eid=MWI2OTJlZjVyM3FocGxpa2Y4YWJnamtzZ2cgY185MTZiNmJjYjY2OTQxYzQwYWIzMDk5YTI1ZDU1OWFkODI0ODc2MDgxMTVlYjM1MmM3OGY2ZDlmNzg0OWJjOWIyQGc\n",
            "Event created: https://www.google.com/calendar/event?eid=djhlaDVhaGZoc2lxOHVjM2E3c285cDU4N2sgY185MTZiNmJjYjY2OTQxYzQwYWIzMDk5YTI1ZDU1OWFkODI0ODc2MDgxMTVlYjM1MmM3OGY2ZDlmNzg0OWJjOWIyQGc\n",
            "Event created: https://www.google.com/calendar/event?eid=a2kxbmRsNmVrMjBsb2gzZXE0MWU4NjgwOHMgY185MTZiNmJjYjY2OTQxYzQwYWIzMDk5YTI1ZDU1OWFkODI0ODc2MDgxMTVlYjM1MmM3OGY2ZDlmNzg0OWJjOWIyQGc\n",
            "Event created: https://www.google.com/calendar/event?eid=M3VrZHRydW5jczUyMzZxY2RobGY0MXRzaXMgY185MTZiNmJjYjY2OTQxYzQwYWIzMDk5YTI1ZDU1OWFkODI0ODc2MDgxMTVlYjM1MmM3OGY2ZDlmNzg0OWJjOWIyQGc\n",
            "Event created: https://www.google.com/calendar/event?eid=dmZ1MjYyMXJobzY3Zmd2bmh2ZmRvOXJka2cgY185MTZiNmJjYjY2OTQxYzQwYWIzMDk5YTI1ZDU1OWFkODI0ODc2MDgxMTVlYjM1MmM3OGY2ZDlmNzg0OWJjOWIyQGc\n",
            "Event created: https://www.google.com/calendar/event?eid=dmxpZnZka2JlZXA0cml2b2hrbTJhb2w2YnMgY18yNjA4Zjc3MGE0NGNmYjlhMmY0Yzk5OWI2NWRjYjcxYTNmOTFkNzBlNmM0YjFmYThmY2IwNDU1ZjdlNDQzYmVhQGc\n",
            "Event created: https://www.google.com/calendar/event?eid=Zm5pc2t1M3I0bDY5aXIzaDg4azZsNjBjMzggY18yNjA4Zjc3MGE0NGNmYjlhMmY0Yzk5OWI2NWRjYjcxYTNmOTFkNzBlNmM0YjFmYThmY2IwNDU1ZjdlNDQzYmVhQGc\n",
            "Event created: https://www.google.com/calendar/event?eid=Y290aWVvcTE0dTdzaTg5aGNnN2wwa2I3dWcgY18yNjA4Zjc3MGE0NGNmYjlhMmY0Yzk5OWI2NWRjYjcxYTNmOTFkNzBlNmM0YjFmYThmY2IwNDU1ZjdlNDQzYmVhQGc\n",
            "Event created: https://www.google.com/calendar/event?eid=amlqZzV1dXJodDUzZ2o4cDE1dGViMzA1bnMgY18yNjA4Zjc3MGE0NGNmYjlhMmY0Yzk5OWI2NWRjYjcxYTNmOTFkNzBlNmM0YjFmYThmY2IwNDU1ZjdlNDQzYmVhQGc\n",
            "Event created: https://www.google.com/calendar/event?eid=NjZ2MnNuaWJvdTY1OGtwZGIzcmV2MGwxNWsgY18yNjA4Zjc3MGE0NGNmYjlhMmY0Yzk5OWI2NWRjYjcxYTNmOTFkNzBlNmM0YjFmYThmY2IwNDU1ZjdlNDQzYmVhQGc\n",
            "Event created: https://www.google.com/calendar/event?eid=YWFtMXJwZmQ0bTAyM2xidG1tYmZkbGxjdDggY18wODA0YmIwMWNjOTQwYzE0NTdjMTBkZjU2MjAwNDQ4OWE3ZmRlNTNkYTg5NDkzNDA2ZjI1ZTg4NmNjZWZjNmNmQGc\n",
            "Event created: https://www.google.com/calendar/event?eid=dWs2YTllbmhlYmFyNnN2M2dxNTVidm5wM28gY18wODA0YmIwMWNjOTQwYzE0NTdjMTBkZjU2MjAwNDQ4OWE3ZmRlNTNkYTg5NDkzNDA2ZjI1ZTg4NmNjZWZjNmNmQGc\n",
            "Event created: https://www.google.com/calendar/event?eid=Mjg5Zm5sNmo1NzljZ25xa2czaXVzdWxhcGsgY18wODA0YmIwMWNjOTQwYzE0NTdjMTBkZjU2MjAwNDQ4OWE3ZmRlNTNkYTg5NDkzNDA2ZjI1ZTg4NmNjZWZjNmNmQGc\n",
            "Event created: https://www.google.com/calendar/event?eid=ZWdzcHJ0cWRnZ2lvczdnaWlzYWoyaTlnZjggY18wODA0YmIwMWNjOTQwYzE0NTdjMTBkZjU2MjAwNDQ4OWE3ZmRlNTNkYTg5NDkzNDA2ZjI1ZTg4NmNjZWZjNmNmQGc\n",
            "Event created: https://www.google.com/calendar/event?eid=anRsbGMxanVpYjd1Yjg4bmdmc2ttZ2k2aWMgY18wODA0YmIwMWNjOTQwYzE0NTdjMTBkZjU2MjAwNDQ4OWE3ZmRlNTNkYTg5NDkzNDA2ZjI1ZTg4NmNjZWZjNmNmQGc\n",
            "Event created: https://www.google.com/calendar/event?eid=dTkzdjZrYmlkcWpsOXE4b29xcTdxNHQ1aWMgY18wNTU5N2JjMDg2NmI0NTA3NzZjODBkMTkwZWNlOGIyZGRkOWFhNDc3YTNkMjQzZDI4M2NjZWNjNTBkNzI2NDFjQGc\n",
            "Event created: https://www.google.com/calendar/event?eid=ZzFqczQ2OTVhcG4zNnZzMnF2a2Y1NGJkNzQgY18wNTU5N2JjMDg2NmI0NTA3NzZjODBkMTkwZWNlOGIyZGRkOWFhNDc3YTNkMjQzZDI4M2NjZWNjNTBkNzI2NDFjQGc\n",
            "Event with ID v57mmraq88f5p4iejb39jcjp7o deleted successfully.\n",
            "Event created: https://www.google.com/calendar/event?eid=MzVqc2ZiaHVjY2MwZ3Rtamx1bDMyYzJuaWsgY18wNTU5N2JjMDg2NmI0NTA3NzZjODBkMTkwZWNlOGIyZGRkOWFhNDc3YTNkMjQzZDI4M2NjZWNjNTBkNzI2NDFjQGc\n",
            "Event with ID 03olfon2622clhvs1qgsr54h3c deleted successfully.\n",
            "Event created: https://www.google.com/calendar/event?eid=ZmsyMjhsa2NzcmVsZ3U2bGluaThnYzd1ZmsgY18wNTU5N2JjMDg2NmI0NTA3NzZjODBkMTkwZWNlOGIyZGRkOWFhNDc3YTNkMjQzZDI4M2NjZWNjNTBkNzI2NDFjQGc\n",
            "Event created: https://www.google.com/calendar/event?eid=ZWpvcjAybDB2cnBudXVkNGQ4OGFrZTNwZGcgY185NDJhNzMyYzU4NzBkNmI4ZTUzZTk1ZWViZTk1ZGQxY2JlN2UxNDQzNmFmNzU0MGMwYTdiMzg2YTE2ZjE0ZDUxQGc\n",
            "Event created: https://www.google.com/calendar/event?eid=cW90dGlwZWx1MGVoYTdmYnNhMmdjcGEyMDQgY185NDJhNzMyYzU4NzBkNmI4ZTUzZTk1ZWViZTk1ZGQxY2JlN2UxNDQzNmFmNzU0MGMwYTdiMzg2YTE2ZjE0ZDUxQGc\n",
            "Event created: https://www.google.com/calendar/event?eid=NDhmbXY1Z2FlamRlY241Y2RsZHY5azlvZWsgY185NDJhNzMyYzU4NzBkNmI4ZTUzZTk1ZWViZTk1ZGQxY2JlN2UxNDQzNmFmNzU0MGMwYTdiMzg2YTE2ZjE0ZDUxQGc\n",
            "Event created: https://www.google.com/calendar/event?eid=a3EwZG9wbHI4NGpwdGIxMTgycmZhdG1yNTggY185NDJhNzMyYzU4NzBkNmI4ZTUzZTk1ZWViZTk1ZGQxY2JlN2UxNDQzNmFmNzU0MGMwYTdiMzg2YTE2ZjE0ZDUxQGc\n",
            "Event created: https://www.google.com/calendar/event?eid=aDZ1MGczOWd2MDJzajEzZnR1YjJlbmk0YW8gY185NDJhNzMyYzU4NzBkNmI4ZTUzZTk1ZWViZTk1ZGQxY2JlN2UxNDQzNmFmNzU0MGMwYTdiMzg2YTE2ZjE0ZDUxQGc\n",
            "Event created: https://www.google.com/calendar/event?eid=dTB2bGxkNWc3OWVyYXE2MmttbzMzcTFtaWcgY182Y2YzNTg4ZTE4NjU0MTM2ZjdkNWJjYzhiMGEzY2E5YmI4OWYwZDU2NzRiYzQ0NTk5ZTIxMTdlZDQ3ZjZkMzg4QGc\n",
            "Event created: https://www.google.com/calendar/event?eid=a3I5YWZlanVwNWJwdDgwYzJjNzhub2FhZ28gY182Y2YzNTg4ZTE4NjU0MTM2ZjdkNWJjYzhiMGEzY2E5YmI4OWYwZDU2NzRiYzQ0NTk5ZTIxMTdlZDQ3ZjZkMzg4QGc\n",
            "Event with ID 7tvve8okuvhn9vhqdh19qjqdg4 deleted successfully.\n",
            "Event created: https://www.google.com/calendar/event?eid=cTZoc3VwbGFpcDB2NmNwbmQxbWNnZXFzcDQgY182Y2YzNTg4ZTE4NjU0MTM2ZjdkNWJjYzhiMGEzY2E5YmI4OWYwZDU2NzRiYzQ0NTk5ZTIxMTdlZDQ3ZjZkMzg4QGc\n",
            "Event with ID 081vo7c3rfpkmr4j5775uibrtk deleted successfully.\n",
            "Event created: https://www.google.com/calendar/event?eid=ZmhxNDI4c3ZkcnJxanFtZHFscHA4NTA0djggY182Y2YzNTg4ZTE4NjU0MTM2ZjdkNWJjYzhiMGEzY2E5YmI4OWYwZDU2NzRiYzQ0NTk5ZTIxMTdlZDQ3ZjZkMzg4QGc\n",
            "Event created: https://www.google.com/calendar/event?eid=MGpwbmRrcXUydGY0NWdubTZ0dHBhZTdpa3MgY19jMGViMWIzNzcyMGNjNTYwMGY1OGQ1ZGYyNTFiYTc4Zjk3NzU4ZGZjMTkzNmY5MDYzMzliYjIwNGE5YzVlMmY5QGc\n",
            "Event created: https://www.google.com/calendar/event?eid=aTE5dTQ5MHIyOGVwbmczZ3F0YTZudGhhMGsgY19jMGViMWIzNzcyMGNjNTYwMGY1OGQ1ZGYyNTFiYTc4Zjk3NzU4ZGZjMTkzNmY5MDYzMzliYjIwNGE5YzVlMmY5QGc\n",
            "Event created: https://www.google.com/calendar/event?eid=cHZ0aWlvdWcwdWlocGVhcHAwMWsyYXB1ZWsgY19jMGViMWIzNzcyMGNjNTYwMGY1OGQ1ZGYyNTFiYTc4Zjk3NzU4ZGZjMTkzNmY5MDYzMzliYjIwNGE5YzVlMmY5QGc\n",
            "Event created: https://www.google.com/calendar/event?eid=cG05bTEyMXJzNXZ0NG5hMmxmdnIwaWdzNWMgY19jMGViMWIzNzcyMGNjNTYwMGY1OGQ1ZGYyNTFiYTc4Zjk3NzU4ZGZjMTkzNmY5MDYzMzliYjIwNGE5YzVlMmY5QGc\n",
            "Event created: https://www.google.com/calendar/event?eid=YzJoYThiZGVlbGd0ODVlazZvczl2OGFiaDAgY19jMGViMWIzNzcyMGNjNTYwMGY1OGQ1ZGYyNTFiYTc4Zjk3NzU4ZGZjMTkzNmY5MDYzMzliYjIwNGE5YzVlMmY5QGc\n",
            "Event created: https://www.google.com/calendar/event?eid=ajg4bjgycnRsM3ZrbmtiNGVodHFnYmptNGMgY185ZWU1NzE5NDMyOGU4NGI1NjkzNGU3NmNmN2FmZjA1OWRjNDg3MjgxMDhjZWQzMDNjYjY4NmQyODVhYjk2OGIxQGc\n",
            "Event created: https://www.google.com/calendar/event?eid=ZDJjb2dsbDczczZzbDNqdXNoaDhwYjB0YXMgY185ZWU1NzE5NDMyOGU4NGI1NjkzNGU3NmNmN2FmZjA1OWRjNDg3MjgxMDhjZWQzMDNjYjY4NmQyODVhYjk2OGIxQGc\n",
            "Event created: https://www.google.com/calendar/event?eid=Zjg4Mmx0M2YyYXNnN251YW43N3NuNzg0dm8gY185ZWU1NzE5NDMyOGU4NGI1NjkzNGU3NmNmN2FmZjA1OWRjNDg3MjgxMDhjZWQzMDNjYjY4NmQyODVhYjk2OGIxQGc\n",
            "Event created: https://www.google.com/calendar/event?eid=cHJoc2dscDFla2J1cWhhcXJuaWxuNmxqNWsgY185ZWU1NzE5NDMyOGU4NGI1NjkzNGU3NmNmN2FmZjA1OWRjNDg3MjgxMDhjZWQzMDNjYjY4NmQyODVhYjk2OGIxQGc\n",
            "Event created: https://www.google.com/calendar/event?eid=cWJqdWVuZmc4YzM0ZzVtZmQyajZ1bDJhcTQgY185ZWU1NzE5NDMyOGU4NGI1NjkzNGU3NmNmN2FmZjA1OWRjNDg3MjgxMDhjZWQzMDNjYjY4NmQyODVhYjk2OGIxQGc\n",
            "Event created: https://www.google.com/calendar/event?eid=bmcxNWJhcHRlZTEwdDVuc29lYWJxdGI5Nm8gY19kNGQ0M2Y3Y2VlNzVjNGVjNGU3YzdiYTIxNTg2NDA0ZWJiYjA0Y2FmYWEwOWJiNzUxNzliOGY0YTY4MTZmNTg1QGc\n",
            "Event created: https://www.google.com/calendar/event?eid=YzhldGtodXBya25sb2V2dGNxNGgzc2FuOWMgY19kNGQ0M2Y3Y2VlNzVjNGVjNGU3YzdiYTIxNTg2NDA0ZWJiYjA0Y2FmYWEwOWJiNzUxNzliOGY0YTY4MTZmNTg1QGc\n",
            "Event created: https://www.google.com/calendar/event?eid=bTBocGUwMWZudTZkNWxvODc2djF0YTZkcGcgY19kNGQ0M2Y3Y2VlNzVjNGVjNGU3YzdiYTIxNTg2NDA0ZWJiYjA0Y2FmYWEwOWJiNzUxNzliOGY0YTY4MTZmNTg1QGc\n",
            "Event created: https://www.google.com/calendar/event?eid=azVoYjBiM2k1NjNlaW82aTFtYWVtMzdmZzggY19kNGQ0M2Y3Y2VlNzVjNGVjNGU3YzdiYTIxNTg2NDA0ZWJiYjA0Y2FmYWEwOWJiNzUxNzliOGY0YTY4MTZmNTg1QGc\n",
            "Event created: https://www.google.com/calendar/event?eid=YmQ1ZW52M2Uzc3FpYmNtMmhscWhvaTRyMDggY19kNGQ0M2Y3Y2VlNzVjNGVjNGU3YzdiYTIxNTg2NDA0ZWJiYjA0Y2FmYWEwOWJiNzUxNzliOGY0YTY4MTZmNTg1QGc\n",
            "Event created: https://www.google.com/calendar/event?eid=Z2czbjAyaXRlcm5jc2x2MnFiZXRvYTkyMTggY19iZDA0MmE2ODM5ZTUyNzdlOTE3NmEwODRiNjM5OTBmN2MxNjhlMjI4ZGVjMTBlYjM3ZDIxZTZjNDg4MDExNDg4QGc\n",
            "Event created: https://www.google.com/calendar/event?eid=dmpkMjVnOTZxYnFkYWkyZmIzdDNnOHF1Nm8gY19iZDA0MmE2ODM5ZTUyNzdlOTE3NmEwODRiNjM5OTBmN2MxNjhlMjI4ZGVjMTBlYjM3ZDIxZTZjNDg4MDExNDg4QGc\n",
            "Event created: https://www.google.com/calendar/event?eid=NGpuajhyYzRwNWphcW4xcmtjZmkzdGE5YWsgY19iZDA0MmE2ODM5ZTUyNzdlOTE3NmEwODRiNjM5OTBmN2MxNjhlMjI4ZGVjMTBlYjM3ZDIxZTZjNDg4MDExNDg4QGc\n",
            "Event created: https://www.google.com/calendar/event?eid=MHU4MWFkOTFmNmlsYWRiZW1iOTdkdWhwZ2sgY19iZDA0MmE2ODM5ZTUyNzdlOTE3NmEwODRiNjM5OTBmN2MxNjhlMjI4ZGVjMTBlYjM3ZDIxZTZjNDg4MDExNDg4QGc\n",
            "Event created: https://www.google.com/calendar/event?eid=cjlkZ2ttdGZtcTJ1bzRycm9naHNncW0xcTggY19iZDA0MmE2ODM5ZTUyNzdlOTE3NmEwODRiNjM5OTBmN2MxNjhlMjI4ZGVjMTBlYjM3ZDIxZTZjNDg4MDExNDg4QGc\n"
          ]
        },
        {
          "output_type": "execute_result",
          "data": {
            "text/plain": [
              "'\\nfor i in range(1,len(b_btech)):\\n  if b_btech[i]!=0:\\n    a=b_btech[i].split(\\',\\')\\n  else:\\n    a=[\"1\"]\\n  if b_dual[i]!=0:\\n    b=b_dual[i].split(\\',\\')\\n  else:\\n    b=[\"1\"]\\n  if \"ME\" in a or \"L_ME_0\" in b or \"All\" in a or \"All\" in b:\\n    cal_id=calendar_ids[0]\\n    events = []\\n    page_token = None\\n    while True:\\n      events_result = service.events().list(calendarId=cal_id, pageToken=page_token).execute()\\n      events.extend(events_result.get(\\'items\\', []))\\n      page_token = events_result.get(\\'nextPageToken\\')\\n      if not page_token:\\n        break\\n    flag_r=0\\n    for event in events:\\n      if event[\\'end\\'].get(\\'dateTime\\', event[\\'end\\'].get(\\'date\\'))== str(start_date[i-1])+\\'T\\'+str(end_time[i-1])+\\'+05:30\\' and event[\\'description\\']== str(data.loc[i,6])+\\'-Resume Deadline\\' and event[\\'summary\\']==str(data.loc[i,2]) and event[\\'start\\'].get(\\'dateTime\\', event[\\'start\\'].get(\\'date\\'))==str(start_date[i-1])+\\'T\\'+str(start_time[i-1])+\\'+05:30\\' :\\n        flag_r=1\\n        break\\n    if start_date[i-1]==0:\\n      flag_r=1\\n    if flag_r==0:\\n      for event in events:\\n        if event[\\'summary\\']==str(data.loc[i,2]) and event[\\'description\\']== str(data.loc[i,6])+\\'-Resume Deadline\\':\\n          delete_events(service, cal_id, event[\\'id\\'])\\n\\n      event_details_r = {\\n      \\'summary\\': str(data.loc[i,2]),\\n      \\'description\\': str(data.loc[i,6])+\\'-Resume Deadline\\',\\n      \\'start\\': {\\n        \\'dateTime\\': str(start_date[i-1])+\\'T\\'+str(start_time[i-1])+\\'+05:30\\',  # Using Asia/Kolkata timezone\\n        \\'timeZone\\': \\'Asia/Kolkata\\',\\n               },\\n      \\'end\\': {\\n        \\'dateTime\\': str(start_date[i-1])+\\'T\\'+str(end_time[i-1])+\\'+05:30\\',  # Using Asia/Kolkata timezone\\n        \\'timeZone\\': \\'Asia/Kolkata\\',\\n             },\\n\\n                       }\\n\\n      try:\\n        create_event(service, cal_id, event_details_r)\\n      except Exception as e:\\n        print(f\\'An error occurred: {e}\\',i,\"resume\")\\n\\n    flag_t=0\\n    for event in events:\\n      if event[\\'end\\'].get(\\'dateTime\\', event[\\'end\\'].get(\\'date\\'))== str(test_start_date[i-1])+\\'T\\'+str(test_start_time[i-1])+\\'+05:30\\' and event[\\'description\\']== str(data.loc[i,6])+\\'-Test Starting\\' and event[\\'summary\\']==str(data.loc[i,2]) and event[\\'start\\'].get(\\'dateTime\\', event[\\'start\\'].get(\\'date\\'))==str(test_start_date[i-1])+\\'T\\'+str(test_start_time[i-1])+\\'+05:30\\' :\\n        flag_t=1\\n        break\\n    if test_start_date[i-1]==0:\\n      flag_t=1\\n    if flag_t==0:\\n      for event in events:\\n        if event[\\'summary\\']==str(data.loc[i,2]) and event[\\'description\\']== str(data.loc[i,6])+\\'-Test Starting\\':\\n          delete_events(service, cal_id, event[\\'id\\'])\\n\\n      event_details_t = {\\n      \\'summary\\': str(data.loc[i,2]),\\n      \\'description\\': str(data.loc[i,6])+\\'-Test Starting\\',\\n      \\'start\\': {\\n        \\'dateTime\\': str(test_start_date[i-1])+\\'T\\'+str(test_start_time[i-1])+\\'+05:30\\',  # Using Asia/Kolkata timezone\\n        \\'timeZone\\': \\'Asia/Kolkata\\',\\n               },\\n      \\'end\\': {\\n        \\'dateTime\\': str(test_start_date[i-1])+\\'T\\'+str(test_start_time[i-1])+\\'+05:30\\',  # Using Asia/Kolkata timezone\\n        \\'timeZone\\': \\'Asia/Kolkata\\',\\n             },\\n                       }\\n\\n      try:\\n        create_event(service, cal_id, event_details_t)\\n      except Exception as e:\\n        print(f\\'An error occurred: {e}\\',i,\"test\")\\n\\n\\n    flag_p=0\\n    for event in events:\\n      if event[\\'end\\'].get(\\'dateTime\\', event[\\'end\\'].get(\\'date\\'))== str(ppt_start_date[i-1])+\\'T\\'+str(ppt_start_time[i-1])+\\'+05:30\\' and event[\\'description\\']== str(data.loc[i,6])+\\'-PPT Starting\\' and event[\\'summary\\']==str(data.loc[i,2]) and event[\\'start\\'].get(\\'dateTime\\', event[\\'start\\'].get(\\'date\\'))==str(ppt_start_date[i-1])+\\'T\\'+str(ppt_start_time[i-1])+\\'+05:30\\' :\\n        flag_p=1\\n        break\\n    if ppt_start_date[i-1]==0:\\n      flag_p=1\\n    if flag_p==0:\\n      for event in events:\\n        if event[\\'summary\\']==str(data.loc[i,2]) and event[\\'description\\']== str(data.loc[i,6])+\\'-PPT Starting\\':\\n          delete_events(service, cal_id, event[\\'id\\'])\\n\\n      event_details_p = {\\n      \\'summary\\': str(data.loc[i,2]),\\n      \\'description\\': str(data.loc[i,6])+\\'-PPT Starting\\',\\n      \\'start\\': {\\n        \\'dateTime\\': str(ppt_start_date[i-1])+\\'T\\'+str(ppt_start_time[i-1])+\\'+05:30\\',  # Using Asia/Kolkata timezone\\n        \\'timeZone\\': \\'Asia/Kolkata\\',\\n               },\\n      \\'end\\': {\\n        \\'dateTime\\': str(ppt_start_date[i-1])+\\'T\\'+str(ppt_start_time[i-1])+\\'+05:30\\',  # Using Asia/Kolkata timezone\\n        \\'timeZone\\': \\'Asia/Kolkata\\',\\n             },\\n\\n                       }\\n\\n      try:\\n        create_event(service, cal_id, event_details_p)\\n      except Exception as e:\\n        print(f\\'An error occurred: {e}\\',i,\"ppt\")\\n\\n\\n\\n\\n\\n\\n\\n\\n\\nBtech=[\"AE\",\"CE\",\"CH\",\"CS\",\"EE\",\"EP\",\"ME\",\"MM\",\"NA\"]\\nb_btech=data.loc[:,22]\\nfor i in range(1,len(b_btech)):\\n  if b_btech[i]!=0:\\n    a=b_btech[i].split(\\',\\')\\n  else:\\n    a=[\"1\"]\\n  if \"ME\" in a:\\n    cal_id=calendar_ids[1]\\n    events_result = service.events().list(calendarId=cal_id).execute()\\n    events = events_result.get(\\'items\\', [])\\n    flag=0\\n    for event in events:\\n      if event[\\'end\\'].get(\\'dateTime\\', event[\\'end\\'].get(\\'date\\'))== str(start_date[i-1])+\\'T\\'+str(end_time[i-1])+\\'+05:30\\' and event[\\'description\\']== \\'Resume Deadline\\' and event[\\'summary\\']==str(data.loc[i,2]):\\n        flag=1\\n        break\\n    if flag==0:\\n      for event in events:\\n        if event[\\'summary\\']==str(data.loc[i,2]):\\n          delete_events(service, cal_id, event[\\'id\\'])\\n\\n      event_details_r = {\\n      \\'summary\\': str(data.loc[i,2]),\\n\\n      \\'description\\': \\'Resume Deadline\\',\\n      \\'start\\': {\\n        \\'dateTime\\': str(start_date[i-1])+\\'T\\'+str(start_time[i-1])+\\'+05:30\\',  # Using Asia/Kolkata timezone\\n        \\'timeZone\\': \\'Asia/Kolkata\\',\\n      },\\n       \\'end\\': {\\n        \\'dateTime\\': str(start_date[i-1])+\\'T\\'+str(end_time[i-1])+\\'+05:30\\',  # Using Asia/Kolkata timezone\\n        \\'timeZone\\': \\'Asia/Kolkata\\',\\n      },\\n\\n      \\'reminders\\': {\\n        \\'useDefault\\': False,\\n        \\'overrides\\': [\\n\\n            {\\'method\\': \\'popup\\', \\'minutes\\': 10},\\n        ],\\n     },\\n     }\\n     try:\\n      create_event(service, cal_id, event_details_r)\\n     except Exception as e:\\n      print(f\\'An error occurred: {e}\\')\\n\\n'"
            ],
            "application/vnd.google.colaboratory.intrinsic+json": {
              "type": "string"
            }
          },
          "metadata": {},
          "execution_count": 10
        }
      ]
    },
    {
      "cell_type": "code",
      "source": [
        "events = []\n",
        "page_token = None\n",
        "\n",
        "while True:\n",
        "  events_result = service.events().list(calendarId=calendar_id, pageToken=page_token).execute()\n",
        "  events.extend(events_result.get('items', []))\n",
        "  page_token = events_result.get('nextPageToken')\n",
        "  if not page_token:\n",
        "    break\n",
        "\n",
        "print(len(events))"
      ],
      "metadata": {
        "colab": {
          "base_uri": "https://localhost:8080/"
        },
        "id": "SH4cV1h4e4TK",
        "outputId": "81b6c234-6c55-4b6f-e3b7-8d677852b1a8"
      },
      "execution_count": null,
      "outputs": [
        {
          "output_type": "stream",
          "name": "stdout",
          "text": [
            "638\n"
          ]
        }
      ]
    },
    {
      "cell_type": "code",
      "source": [
        "print(calendar_ids[0])\n",
        "events_result = service.events().list(calendarId=calendar_id).execute()\n",
        "events = events_result.get('items', [])\n",
        "print(len(events))"
      ],
      "metadata": {
        "colab": {
          "base_uri": "https://localhost:8080/"
        },
        "id": "9LqK1g1Qb_tD",
        "outputId": "f67d5186-01a5-4472-a188-848e3ef3c16f"
      },
      "execution_count": null,
      "outputs": [
        {
          "output_type": "stream",
          "name": "stdout",
          "text": [
            "c_831fbeacd9d567cd78c9baeb5c0a8c591009333b954ea223664f31ada6f3a43a@group.calendar.google.com\n",
            "84\n"
          ]
        }
      ]
    },
    {
      "cell_type": "code",
      "source": [
        "# Function to create an event\n",
        "\n",
        "\n",
        "\n",
        "\n",
        "\n",
        "\n",
        "\n",
        "\n",
        "# Define event details\n",
        "event_details_r = {\n",
        "    'summary': 'ATN',\n",
        "    'location': '266 Tapti',\n",
        "    'description': 'Testing',\n",
        "    'start': {\n",
        "        'dateTime': \"2024-07-7\"+\"T\"+\"00:00:00\"+\"+05:30\",  # Using Asia/Kolkata timezone\n",
        "        'timeZone': 'Asia/Kolkata',\n",
        "    },\n",
        "    'end': {\n",
        "        'dateTime': \"2024-07-7\"+\"T\"+\"00:00:00\"+\"+05:30\",  # Using Asia/Kolkata timezone\n",
        "        'timeZone': 'Asia/Kolkata',\n",
        "    },\n",
        "\n",
        "\n",
        "\n",
        "    'reminders': {\n",
        "        'useDefault': False,\n",
        "        'overrides': [\n",
        "\n",
        "            {'method': 'popup', 'minutes': 10},\n",
        "        ],\n",
        "    },\n",
        "}\n",
        "\n",
        "# Specify the calendar IDs for multiple calendars\n",
        "\n",
        "cal_id=calendar_ids[0]\n",
        "create_event(service, cal_id, event_details_r)\n",
        "\n",
        "\n",
        "\n"
      ],
      "metadata": {
        "colab": {
          "base_uri": "https://localhost:8080/"
        },
        "id": "dhpMTDE3oz0D",
        "outputId": "c30e3614-123d-49c5-90fb-e133b3a4aa3b"
      },
      "execution_count": null,
      "outputs": [
        {
          "output_type": "stream",
          "name": "stdout",
          "text": [
            "Event created: https://www.google.com/calendar/event?eid=aHQ4YW9iZW5hZGIxY2QycGduNWM2a3IxbG8gY19mOGRmMjYzNzg2ZDFjOWUxZTYxZmVkMzg2NGZiNDEwYjVjMzdkNmIzYjgxNmZkNzdiMmU4YWM0Y2FhYTA4ZjZlQGc\n"
          ]
        }
      ]
    },
    {
      "cell_type": "code",
      "source": [
        "print(service.events().list(calendarId='c_29d2ffdb372b5f8240fb7b914880ca4a545c95bc1caf2846b64ececd17aed2ab@group.calendar.google.com').execute())"
      ],
      "metadata": {
        "colab": {
          "base_uri": "https://localhost:8080/"
        },
        "id": "5Fi9OBk_vhF0",
        "outputId": "bfb8df2b-3786-46df-e5e9-0a95c64b9824"
      },
      "execution_count": null,
      "outputs": [
        {
          "output_type": "stream",
          "name": "stdout",
          "text": [
            "{'kind': 'calendar#events', 'etag': '\"p33o973vhkru8c0o\"', 'summary': 'P&I_Testing', 'description': '', 'updated': '2024-06-27T17:26:24.662Z', 'timeZone': 'Asia/Kolkata', 'accessRole': 'owner', 'defaultReminders': [], 'nextSyncToken': 'CPCTj_Gm_IYDEPCTj_Gm_IYDGAUg-e-nswIo-e-nswI=', 'items': [{'kind': 'calendar#event', 'etag': '\"3439017497174000\"', 'id': 'fgg5l5qogjb8tv1178qcltj6hk', 'status': 'confirmed', 'htmlLink': 'https://www.google.com/calendar/event?eid=ZmdnNWw1cW9namI4dHYxMTc4cWNsdGo2aGsgY18yOWQyZmZkYjM3MmI1ZjgyNDBmYjdiOTE0ODgwY2E0YTU0NWM5NWJjMWNhZjI4NDZiNjRlY2VjZDE3YWVkMmFiQGc', 'created': '2024-06-27T17:19:08.000Z', 'updated': '2024-06-27T17:19:08.587Z', 'summary': 'Sample Event', 'description': \"A chance to hear more about Google's developer products.\", 'location': '800 Howard St., San Francisco, CA 94103', 'creator': {'email': 'notifpi@notificationpi-427711.iam.gserviceaccount.com'}, 'organizer': {'email': 'c_29d2ffdb372b5f8240fb7b914880ca4a545c95bc1caf2846b64ececd17aed2ab@group.calendar.google.com', 'displayName': 'P&I_Testing', 'self': True}, 'start': {'dateTime': '2023-06-27T23:00:00+05:30', 'timeZone': 'Asia/Kolkata'}, 'end': {'dateTime': '2023-06-27T23:59:00+05:30', 'timeZone': 'Asia/Kolkata'}, 'iCalUID': 'fgg5l5qogjb8tv1178qcltj6hk@google.com', 'sequence': 0, 'reminders': {'useDefault': False, 'overrides': [{'method': 'popup', 'minutes': 10}]}, 'eventType': 'default'}, {'kind': 'calendar#event', 'etag': '\"3439018369324000\"', 'id': 'g1rjj8pnvi4n3q5r5kkbpfhlr8', 'status': 'confirmed', 'htmlLink': 'https://www.google.com/calendar/event?eid=ZzFyamo4cG52aTRuM3E1cjVra2JwZmhscjggY18yOWQyZmZkYjM3MmI1ZjgyNDBmYjdiOTE0ODgwY2E0YTU0NWM5NWJjMWNhZjI4NDZiNjRlY2VjZDE3YWVkMmFiQGc', 'created': '2024-06-27T17:26:24.000Z', 'updated': '2024-06-27T17:26:24.662Z', 'summary': 'Sample Event', 'description': \"A chance to hear more about Google's developer products.\", 'location': '800 Howard St., San Francisco, CA 94103', 'creator': {'email': 'notifpi@notificationpi-427711.iam.gserviceaccount.com'}, 'organizer': {'email': 'c_29d2ffdb372b5f8240fb7b914880ca4a545c95bc1caf2846b64ececd17aed2ab@group.calendar.google.com', 'displayName': 'P&I_Testing', 'self': True}, 'start': {'dateTime': '2023-06-27T23:00:00+05:30', 'timeZone': 'Asia/Kolkata'}, 'end': {'dateTime': '2023-06-27T23:59:00+05:30', 'timeZone': 'Asia/Kolkata'}, 'iCalUID': 'g1rjj8pnvi4n3q5r5kkbpfhlr8@google.com', 'sequence': 0, 'reminders': {'useDefault': False, 'overrides': [{'method': 'popup', 'minutes': 10}]}, 'eventType': 'default'}]}\n"
          ]
        }
      ]
    },
    {
      "cell_type": "code",
      "source": [
        "def list_event_ids(service, calendar_id):\n",
        "    # Retrieve events from the calendar\n",
        "    events_result = service.events().list(calendarId=calendar_id).execute()\n",
        "    events = events_result.get('items', [])\n",
        "\n",
        "    # List all event IDs\n",
        "    event_ids = []\n",
        "    for event in events:\n",
        "        event_id = event.get('id')\n",
        "        print(f\"Event ID: {event_id}\")\n",
        "        event_ids.append(event_id)\n",
        "\n",
        "    return event_ids\n",
        "\n",
        "\n",
        "calendar_id = 'c_29d2ffdb372b5f8240fb7b914880ca4a545c95bc1caf2846b64ececd17aed2ab@group.calendar.google.com'\n",
        "\n",
        "# List all event IDs\n",
        "event_ids = list_event_ids(service, calendar_id)\n",
        "print(f\"Total events: {len(event_ids)}\")"
      ],
      "metadata": {
        "colab": {
          "base_uri": "https://localhost:8080/"
        },
        "id": "hWmOveQCxoSQ",
        "outputId": "5e87326b-3d20-404c-911d-d2e918243f4d"
      },
      "execution_count": null,
      "outputs": [
        {
          "output_type": "stream",
          "name": "stdout",
          "text": [
            "Event ID: fgg5l5qogjb8tv1178qcltj6hk\n",
            "Event ID: g1rjj8pnvi4n3q5r5kkbpfhlr8\n",
            "Total events: 2\n"
          ]
        }
      ]
    },
    {
      "cell_type": "code",
      "source": [
        "import numpy as np\n",
        "import pandas as pd"
      ],
      "metadata": {
        "id": "imFMcwr3RXoP"
      },
      "execution_count": null,
      "outputs": []
    },
    {
      "cell_type": "code",
      "source": [
        "data = pd.read_csv(\"/content/Tri_A_train.csv\", header=None)\n",
        "data.fillna(0,inplace=True)\n",
        "x=data.loc[:,11].values\n",
        "print(len(x))"
      ],
      "metadata": {
        "colab": {
          "base_uri": "https://localhost:8080/"
        },
        "id": "W8Pcs15xRanE",
        "outputId": "db843957-7c39-45dd-bd66-4f2df861a807"
      },
      "execution_count": null,
      "outputs": [
        {
          "output_type": "stream",
          "name": "stdout",
          "text": [
            "342\n"
          ]
        }
      ]
    },
    {
      "cell_type": "code",
      "source": [
        "#resume_deadlines_calendar\n",
        "start_date=[]\n",
        "start_time=[]\n",
        "u_time=[]\n",
        "for i in range(1,len(x)):\n",
        "  if x[i]==0:\n",
        "    start_date.append(0)\n",
        "    start_time.append(0)\n",
        "\n",
        "\n",
        "  else:\n",
        "\n",
        "    a=x[i].split()\n",
        "    start_date.append(str(a[1].split(',')[0])+\"-\"+str(a[0])+\"-\"+str(a[2].split('-')[0]))\n",
        "    if (str(a[2].split('-')[1])==\"11:59\" and str(a[3])==\"PM\"):\n",
        "      _time.append(\"10:59 PM\")\n",
        "    else:\n",
        "      _time.append(str(a[2].split('-')[1])+\" \"+str(a[3]))\n",
        "#      end_date.append(str(a[1].split(',')[0])+\"-\"+str(a[0])+\"-\"+str(a[2].split('-')[0]))\n",
        "#      start_time.append(\"08:00 AM\")\n",
        "#    else:\n",
        "#      start_date.append(str(a[1].split(',')[0])+\"-\"+str(a[0])+\"-\"+str(a[2].split('-')[0]))\n",
        "#      start_time.append(\"00:01 AM\")\n",
        "    start_time.append(str(a[2].split('-')[1])+\" \"+str(a[3]))"
      ],
      "metadata": {
        "id": "NHKuYdWERdZq"
      },
      "execution_count": null,
      "outputs": []
    },
    {
      "cell_type": "code",
      "source": [],
      "metadata": {
        "id": "1d-w_wDAkMJm"
      },
      "execution_count": null,
      "outputs": []
    }
  ]
}